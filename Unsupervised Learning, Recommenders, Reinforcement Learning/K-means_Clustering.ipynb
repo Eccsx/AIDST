{
 "cells": [
  {
   "cell_type": "markdown",
   "id": "84fb97ef-ece3-4861-a673-fbb91c8115dc",
   "metadata": {},
   "source": [
    "# K-means Clustering"
   ]
  },
  {
   "cell_type": "markdown",
   "id": "829f3278-4cdb-41aa-b654-96ffc9c5a32c",
   "metadata": {},
   "source": [
    "## **1 Introduction**"
   ]
  },
  {
   "cell_type": "markdown",
   "id": "6d77608f-4245-481d-96bb-316d2703f29a",
   "metadata": {},
   "source": [
    "This notebook is my learning material to keep track of the notions approached in the [Unsupervised Learning, Recommenders, Reinforcement Learning](https://www.coursera.org/learn/unsupervised-learning-recommenders-reinforcement-learning) course from the [Machine Learning Specialization](https://www.coursera.org/specializations/machine-learning-introduction) offered by DeepLearning.AI and Standford University.\n",
    "\n",
    "Through this notebook, I use the [HCV data](https://archive-beta.ics.uci.edu/ml/datasets/hcv+data) created UCI Machine Learning Repository."
   ]
  },
  {
   "cell_type": "markdown",
   "id": "b2bd6d66-4c95-409e-a519-b0a256166f44",
   "metadata": {},
   "source": [
    "### **1.0.1 Imports**"
   ]
  },
  {
   "cell_type": "code",
   "execution_count": null,
   "id": "4ec4687d-004a-403b-8091-0166ff0cd330",
   "metadata": {
    "tags": []
   },
   "outputs": [],
   "source": [
    "import os\n",
    "import wget\n",
    "import zipfile\n",
    "\n",
    "# Data manipulation\n",
    "import numpy as np\n",
    "import pandas as pd\n",
    "from sklearn.cluster import KMeans\n",
    "from sklearn.preprocessing import LabelEncoder\n",
    "\n",
    "# Options for pandas\n",
    "pd.options.display.max_columns = 50\n",
    "pd.options.display.max_rows = 30\n",
    "\n",
    "# Visualization\n",
    "import matplotlib.pyplot as plt\n",
    "import seaborn as sns\n",
    "\n",
    "# Options for seaborn\n",
    "sns.set_style('darkgrid')\n",
    "%matplotlib inline\n",
    "\n",
    "from IPython import get_ipython\n",
    "ipython = get_ipython()\n",
    "\n",
    "# Autoreload extesnions\n",
    "if 'autoreload' not in ipython.extension_manager.loaded:\n",
    "    %load_ext autoreload"
   ]
  },
  {
   "cell_type": "markdown",
   "id": "ed5b4ce2-766b-4dff-a90a-fafc7b766319",
   "metadata": {},
   "source": [
    "### **1.1 Data**"
   ]
  },
  {
   "cell_type": "markdown",
   "id": "cef9a9ec-f69f-46ea-8ea0-7c1b25baf2c3",
   "metadata": {},
   "source": [
    "#### **1.1.0.1 Download**"
   ]
  },
  {
   "cell_type": "code",
   "execution_count": null,
   "id": "3677f49c-758d-4d4c-ad76-c647b9bb8cec",
   "metadata": {
    "tags": []
   },
   "outputs": [],
   "source": [
    "url = 'https://archive.ics.uci.edu/ml/machine-learning-databases/00571/hcvdat0.csv'\n",
    "filename = wget.download(url)"
   ]
  },
  {
   "cell_type": "markdown",
   "id": "04e4d25f-6669-4cd9-9344-070dbaa2cbbc",
   "metadata": {
    "tags": []
   },
   "source": [
    "#### **1.1.0.2 Import**"
   ]
  },
  {
   "cell_type": "code",
   "execution_count": null,
   "id": "4e38d6c3-c7fa-44d9-9e2c-d555bea323bf",
   "metadata": {
    "tags": []
   },
   "outputs": [],
   "source": [
    "hcv = pd.read_csv(filename)"
   ]
  },
  {
   "cell_type": "markdown",
   "id": "d3f7316b-6645-464d-bc7d-3340711aef4d",
   "metadata": {},
   "source": [
    "#### **1.1.1 Exploratory Data Analysis**"
   ]
  },
  {
   "cell_type": "code",
   "execution_count": null,
   "id": "6c6d7182-a609-4175-bfa0-4ad94ca7f4c0",
   "metadata": {
    "tags": []
   },
   "outputs": [],
   "source": [
    "hcv.info()\n",
    "hcv.describe()"
   ]
  },
  {
   "cell_type": "code",
   "execution_count": null,
   "id": "142039a1-d1d9-4f97-bdf4-b3aa0bebe30d",
   "metadata": {
    "tags": []
   },
   "outputs": [],
   "source": [
    "hcv.head()"
   ]
  },
  {
   "cell_type": "code",
   "execution_count": null,
   "id": "a4729e74-6656-484b-823b-59e657026b49",
   "metadata": {
    "tags": []
   },
   "outputs": [],
   "source": [
    "print(f'Number of missing values: {hcv.isna().sum().sum()}')"
   ]
  },
  {
   "cell_type": "code",
   "execution_count": null,
   "id": "ed7f6d3f-a7fe-47ff-94e3-4a88e613dc72",
   "metadata": {
    "tags": []
   },
   "outputs": [],
   "source": [
    "hcv.isna().sum()"
   ]
  },
  {
   "cell_type": "code",
   "execution_count": null,
   "id": "17851192-9b71-4652-b9e0-8938e92103c9",
   "metadata": {
    "tags": []
   },
   "outputs": [],
   "source": [
    "sns.pairplot(data=hcv.drop(['Unnamed: 0'], axis=1), hue='Category')"
   ]
  },
  {
   "cell_type": "markdown",
   "id": "4ddebaff-7a99-4c9b-83d6-e86ded945193",
   "metadata": {},
   "source": [
    "## **2 Clustering with NumPy**"
   ]
  },
  {
   "cell_type": "markdown",
   "id": "e6bbe612-f53a-403a-8d71-10fe04ea804c",
   "metadata": {},
   "source": [
    "### **2.1 Preprocessing**"
   ]
  },
  {
   "cell_type": "markdown",
   "id": "8b1850b5-05d6-47b2-8675-3376dc11e9db",
   "metadata": {},
   "source": [
    "#### **2.1.1 Fill missing values**"
   ]
  },
  {
   "cell_type": "code",
   "execution_count": null,
   "id": "cecd0f1d-89fe-4ff6-b348-6af4170a6289",
   "metadata": {
    "tags": []
   },
   "outputs": [],
   "source": [
    "for c in hcv.columns[hcv.isna().any()]:\n",
    "    hcv[c].fillna(round(hcv[c].mean(), 2), inplace=True)\n",
    "\n",
    "print(f'Number of missing values: {hcv.isna().sum().sum()}')"
   ]
  },
  {
   "cell_type": "markdown",
   "id": "a7c59b7e-a910-4381-8280-c044bf57f24b",
   "metadata": {},
   "source": [
    "#### **2.1.2 Feature selection**"
   ]
  },
  {
   "cell_type": "code",
   "execution_count": null,
   "id": "2a657a5c-e5ab-4b69-ae98-a07649bc4725",
   "metadata": {
    "tags": []
   },
   "outputs": [],
   "source": [
    "X = hcv.drop(['Unnamed: 0', 'Category', 'Sex'], axis=1).values\n",
    "X"
   ]
  },
  {
   "cell_type": "markdown",
   "id": "06eaac6e-f5ee-49ce-b0c2-90ed2363ca5a",
   "metadata": {},
   "source": [
    "### **2.2 Model**"
   ]
  },
  {
   "cell_type": "markdown",
   "id": "ec464819-aa59-49e8-9c1a-b7acf3f4007a",
   "metadata": {},
   "source": [
    "#### **2.2.1 Cluster assignment**"
   ]
  },
  {
   "cell_type": "markdown",
   "id": "f11d44d2-e0f1-4940-83f3-20c75feec834",
   "metadata": {},
   "source": [
    "$$\n",
    "c^{(i)} := j \\quad \\text{that minimizes} \\quad ||x^{(i)} - \\mu_j||^2\n",
    "$$\n",
    "\n",
    "$$\n",
    "\\begin{align*}\n",
    "    c^{(i)} &: \\text{index of the centroid that is closest to $x^{(i)}$} \\\\\n",
    "    \\mu_j &: \\text{position of the $j$-th centroid}\n",
    "\\end{align*}\n",
    "$$"
   ]
  },
  {
   "cell_type": "code",
   "execution_count": null,
   "id": "0ff087d1-657d-42e7-b228-52d88290762f",
   "metadata": {
    "tags": []
   },
   "outputs": [],
   "source": [
    "def assign_cluster(X, centroids):\n",
    "    idx = np.zeros(X.shape[0], dtype=int)\n",
    "    \n",
    "    for i, x in enumerate(X):\n",
    "        dist_min = np.inf\n",
    "        \n",
    "        for j, c in enumerate(centroids):\n",
    "            dist = np.linalg.norm(x - c)**2\n",
    "            \n",
    "            if dist < dist_min:\n",
    "                dist_min = dist\n",
    "                idx[i] = j\n",
    "    return idx"
   ]
  },
  {
   "cell_type": "markdown",
   "id": "7b9e11a0-65a2-4a1e-b8e8-0d5492d970db",
   "metadata": {
    "execution": {
     "iopub.execute_input": "2022-07-28T21:09:21.690496Z",
     "iopub.status.busy": "2022-07-28T21:09:21.690255Z",
     "iopub.status.idle": "2022-07-28T21:09:21.693553Z",
     "shell.execute_reply": "2022-07-28T21:09:21.693110Z",
     "shell.execute_reply.started": "2022-07-28T21:09:21.690476Z"
    },
    "tags": []
   },
   "source": [
    "#### **2.2.2 Centroids means**"
   ]
  },
  {
   "cell_type": "markdown",
   "id": "efc61e05-46ad-44c0-84a5-4aff4fc3af5f",
   "metadata": {},
   "source": [
    "$$\n",
    "\\mu_k = \\frac{1}{|C_k|} \\sum_{i \\in C_k} x^{(i)}\n",
    "$$\n",
    "\n",
    "$$\n",
    "\\begin{align*}\n",
    "    C_k &: \\text{set of examples that are assigned to centroid $k$,} \\\\\n",
    "    |C_k| &: \\text{number of examples in the set $C_k$}\n",
    "\\end{align*}\n",
    "$$"
   ]
  },
  {
   "cell_type": "code",
   "execution_count": null,
   "id": "3f3cde21-3214-4c4a-83c3-825608cfc2a0",
   "metadata": {
    "tags": []
   },
   "outputs": [],
   "source": [
    "def update_centroids(X, idx, K):\n",
    "    centroids = np.zeros((K, X.shape[1]))\n",
    "    \n",
    "    for k in range(K):\n",
    "        pts = X[idx == k]\n",
    "        centroids[k] = pts.mean(axis=0)\n",
    "        \n",
    "    return centroids"
   ]
  },
  {
   "cell_type": "markdown",
   "id": "d64be52f-d712-4d50-885b-04de5b57a934",
   "metadata": {
    "execution": {
     "iopub.execute_input": "2022-07-22T15:15:10.721955Z",
     "iopub.status.busy": "2022-07-22T15:15:10.721576Z",
     "iopub.status.idle": "2022-07-22T15:15:10.725338Z",
     "shell.execute_reply": "2022-07-22T15:15:10.724807Z",
     "shell.execute_reply.started": "2022-07-22T15:15:10.721934Z"
    },
    "tags": []
   },
   "source": [
    "#### **2.2.2 Training**"
   ]
  },
  {
   "cell_type": "code",
   "execution_count": null,
   "id": "92d2299a-dcfb-41f9-9e64-5c030d8f35d3",
   "metadata": {
    "tags": []
   },
   "outputs": [],
   "source": [
    "def kmeans(X, K, epochs=10):\n",
    "    m, n = X.shape\n",
    "    idx = np.zeros(m)\n",
    "    \n",
    "    # Initialize K random centroids\n",
    "    ic = np.random.choice(range(m), size=(K), replace=False)\n",
    "    centroids = X[ic]\n",
    "    \n",
    "    # Run K-means\n",
    "    for e in range(epochs):\n",
    "        idx = assign_cluster(X, centroids)\n",
    "        centroids = update_centroids(X, idx, K)\n",
    "        \n",
    "    return centroids, idx"
   ]
  },
  {
   "cell_type": "code",
   "execution_count": null,
   "id": "e759c265-4c77-4abc-b20a-3031dd805afb",
   "metadata": {
    "tags": []
   },
   "outputs": [],
   "source": [
    "centroids, idx = kmeans(X, K=4)"
   ]
  },
  {
   "cell_type": "markdown",
   "id": "fdf9e189-aed6-4e04-8a63-3b3e818c1aca",
   "metadata": {
    "tags": []
   },
   "source": [
    "### **2.3 Results**"
   ]
  },
  {
   "cell_type": "code",
   "execution_count": null,
   "id": "a13ba62a-347e-4215-9511-386a23ca4b7e",
   "metadata": {
    "tags": []
   },
   "outputs": [],
   "source": [
    "m = 4\n",
    "fig, axes = plt.subplots(m, m,\n",
    "                         figsize=(14, 7))\n",
    "\n",
    "for i in range(m):\n",
    "    for j in range(m):\n",
    "        sns.scatterplot(x=X[:, i], y=X[:, j],\n",
    "                        hue=idx, palette='Set2',\n",
    "                        marker='o',\n",
    "                        ax=axes[i, j])\n",
    "\n",
    "        sns.scatterplot(x=centroids[:, i], y=centroids[:, j],\n",
    "                        marker='X', s=80,\n",
    "                        color='black',\n",
    "                        ax=axes[i, j])"
   ]
  },
  {
   "cell_type": "markdown",
   "id": "b724c395-a717-4862-80d2-9ef316eb006b",
   "metadata": {},
   "source": [
    "## **2 Clustering with TensorFlow**"
   ]
  },
  {
   "cell_type": "markdown",
   "id": "9f5e023f-409d-40b7-92d5-8a952d8bb763",
   "metadata": {},
   "source": [
    "### **2.1 Model**"
   ]
  },
  {
   "cell_type": "code",
   "execution_count": null,
   "id": "08811e56-a8ce-4678-b11e-b4ce20f16344",
   "metadata": {
    "tags": []
   },
   "outputs": [],
   "source": [
    "kmeans_model = KMeans(n_clusters=4)\n",
    "\n",
    "labels = kmeans_model.fit_predict(X)"
   ]
  },
  {
   "cell_type": "markdown",
   "id": "069651c4-1ea5-4877-9008-b8fde51582bc",
   "metadata": {},
   "source": [
    "### **2.2 Results**"
   ]
  },
  {
   "cell_type": "code",
   "execution_count": null,
   "id": "14297cf9-efce-48ef-abe3-3f0b80546e57",
   "metadata": {
    "tags": []
   },
   "outputs": [],
   "source": [
    "centroids = kmeans_model.cluster_centers_\n",
    "u_labels = np.unique(labels)\n",
    "palette = iter(sns.color_palette())\n",
    "\n",
    "m = 4\n",
    "fig, axes = plt.subplots(m, m,\n",
    "                         figsize=(14, 7))\n",
    "\n",
    "for i in range(m):\n",
    "    for j in range(m):\n",
    "        for l in u_labels:\n",
    "            sns.scatterplot(x=X[labels == l, i], y=X[labels == l, j],\n",
    "                            label=l,\n",
    "                            ax=axes[i, j])\n",
    "\n",
    "            sns.scatterplot(x=centroids[:, i], y=centroids[:, j],\n",
    "                            marker='X', s=80, color='black',\n",
    "                            ax=axes[i, j])"
   ]
  }
 ],
 "metadata": {
  "kernelspec": {
   "display_name": "Python 3 (ipykernel)",
   "language": "python",
   "name": "python3"
  },
  "language_info": {
   "codemirror_mode": {
    "name": "ipython",
    "version": 3
   },
   "file_extension": ".py",
   "mimetype": "text/x-python",
   "name": "python",
   "nbconvert_exporter": "python",
   "pygments_lexer": "ipython3",
   "version": "3.10.5"
  }
 },
 "nbformat": 4,
 "nbformat_minor": 5
}
