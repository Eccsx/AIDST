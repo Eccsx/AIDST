{
 "cells": [
  {
   "cell_type": "markdown",
   "id": "d80eaf87-ba24-4e0d-b1c3-d56dd550d329",
   "metadata": {},
   "source": [
    "# Neural Network Binary Classification"
   ]
  },
  {
   "cell_type": "markdown",
   "id": "cc111da9-7058-4a9b-a681-196bca208c44",
   "metadata": {},
   "source": [
    "## **1 Introduction**"
   ]
  },
  {
   "cell_type": "markdown",
   "id": "2dcf3506-7357-4172-9955-053195368c8b",
   "metadata": {},
   "source": [
    "This notebook is my learning material to keep track of the notions approached in the [Advanced Learning Algorithms](https://www.coursera.org/learn/advanced-learning-algorithms?specialization=machine-learning-introduction) course from the [Machine Learning Specialization](https://www.coursera.org/specializations/machine-learning-introduction) offered by DeepLearning.AI and Standford University.\n",
    "\n",
    "Through this notebook, I use the [Heart Failure Prediction Dataset](https://www.kaggle.com/datasets/fedesoriano/heart-failure-prediction) created by fedesoriano."
   ]
  },
  {
   "cell_type": "markdown",
   "id": "8b03b664-0cf8-4fc8-8604-ba666ce78cb8",
   "metadata": {},
   "source": [
    "### **1.0.1 Imports**"
   ]
  },
  {
   "cell_type": "code",
   "execution_count": null,
   "id": "924f3985-1644-406e-a061-1b68e0d2afdf",
   "metadata": {},
   "outputs": [],
   "source": [
    "# Data manipulation\n",
    "import numpy as np\n",
    "import pandas as pd\n",
    "from sklearn.preprocessing import LabelEncoder\n",
    "from sklearn.preprocessing import StandardScaler\n",
    "\n",
    "# Machine Learning\n",
    "import tensorflow as tf\n",
    "from tensorflow.keras import Sequential\n",
    "from tensorflow.keras.layers import Dense\n",
    "from tensorflow.keras.losses import BinaryCrossentropy\n",
    "from tensorflow.keras.optimizers import Adam\n",
    "\n",
    "# Options for pandas\n",
    "pd.options.display.max_columns = 50\n",
    "pd.options.display.max_rows = 30\n",
    "\n",
    "# Visualization\n",
    "import matplotlib.pyplot as plt\n",
    "import seaborn as sns\n",
    "\n",
    "# Options for seaborn\n",
    "sns.set_style('darkgrid')\n",
    "%matplotlib inline\n",
    "\n",
    "from IPython import get_ipython\n",
    "ipython = get_ipython()\n",
    "\n",
    "# Autoreload extesnions\n",
    "if 'autoreload' not in ipython.extension_manager.loaded:\n",
    "    %load_ext autoreload"
   ]
  },
  {
   "cell_type": "markdown",
   "id": "11478638-0b98-471f-a285-738131a3370a",
   "metadata": {},
   "source": [
    "### **1.1 Data**"
   ]
  },
  {
   "cell_type": "markdown",
   "id": "95a2e61b-f45f-4d84-b2e6-c7400467159c",
   "metadata": {},
   "source": [
    "#### **1.1.0.1 Import**"
   ]
  },
  {
   "cell_type": "code",
   "execution_count": null,
   "id": "6eb952cf-40bf-487e-a7ce-78fe8b8d10b6",
   "metadata": {},
   "outputs": [],
   "source": [
    "heart = pd.read_csv('heart.csv')\n",
    "heart"
   ]
  },
  {
   "cell_type": "markdown",
   "id": "81ae6b0e-07fb-404f-b253-21d48386190f",
   "metadata": {},
   "source": [
    "#### **1.1.1 Exploratory Data Analysis**"
   ]
  },
  {
   "cell_type": "code",
   "execution_count": null,
   "id": "bea11b96-9d4d-45b8-b47d-cd36e06f51f9",
   "metadata": {},
   "outputs": [],
   "source": [
    "heart.info()\n",
    "heart.describe()"
   ]
  },
  {
   "cell_type": "code",
   "execution_count": null,
   "id": "124d32c9-b2e3-4f43-b8c7-3b380cbf9a36",
   "metadata": {},
   "outputs": [],
   "source": [
    "sns.pairplot(data=heart, hue='HeartDisease',\n",
    "             height=1.5)"
   ]
  },
  {
   "cell_type": "code",
   "execution_count": null,
   "id": "4f26dcdb-696a-4ee2-831a-3bb2fcb930f8",
   "metadata": {},
   "outputs": [],
   "source": [
    "sns.heatmap(data=heart.corr(),\n",
    "            cmap='coolwarm',\n",
    "            annot=True)"
   ]
  },
  {
   "cell_type": "markdown",
   "id": "8ef09822-09ed-4c97-9548-cba7db0a6dac",
   "metadata": {},
   "source": [
    "## **2 TensorFlow implementation**"
   ]
  },
  {
   "cell_type": "markdown",
   "id": "5df039a8-75a3-4ef5-9c1b-69479966f7d6",
   "metadata": {},
   "source": [
    "### **2.1 Data preparation**"
   ]
  },
  {
   "cell_type": "markdown",
   "id": "a23cafec-c381-4472-a219-7126f6f06d43",
   "metadata": {},
   "source": [
    "#### **2.1.1 Label encoding**"
   ]
  },
  {
   "cell_type": "code",
   "execution_count": null,
   "id": "800d8dc1-2a06-46b2-9340-51470805c949",
   "metadata": {},
   "outputs": [],
   "source": [
    "le = LabelEncoder()\n",
    "for col in heart.select_dtypes(include='object').columns:\n",
    "    heart[col] = le.fit_transform(heart[col])\n",
    "    \n",
    "heart"
   ]
  },
  {
   "cell_type": "markdown",
   "id": "84499887-d86b-453b-91e5-7fbc80fa27bd",
   "metadata": {},
   "source": [
    "#### **2.1.2 Splitting data**"
   ]
  },
  {
   "cell_type": "code",
   "execution_count": null,
   "id": "c683b6ee-38a4-407a-a4f4-a2ac4775dd52",
   "metadata": {},
   "outputs": [],
   "source": [
    "training = heart.sample(frac=0.8, random_state=12)\n",
    "testing = heart.drop(training.index)\n",
    "\n",
    "X_train = training.drop('HeartDisease', axis=1).to_numpy()\n",
    "y_train = training['HeartDisease'].values\n",
    "\n",
    "X_test = testing.drop('HeartDisease', axis=1).to_numpy()\n",
    "y_test = testing['HeartDisease'].values"
   ]
  },
  {
   "cell_type": "markdown",
   "id": "f0d18832-cc81-4cc1-bf07-d3ddac068471",
   "metadata": {},
   "source": [
    "#### **2.1.3 Feature scaling**"
   ]
  },
  {
   "cell_type": "code",
   "execution_count": null,
   "id": "d0bb9b38-5d7c-4e96-a8bd-e01a47c1cf32",
   "metadata": {},
   "outputs": [],
   "source": [
    "ss = StandardScaler()\n",
    "\n",
    "X_train = ss.fit_transform(X_train)\n",
    "X_test = ss.fit_transform(X_test)"
   ]
  },
  {
   "cell_type": "markdown",
   "id": "cfe37f29-3c01-41a1-af31-52917b990cd8",
   "metadata": {},
   "source": [
    "### **2.2 Analysis**"
   ]
  },
  {
   "cell_type": "markdown",
   "id": "d65882a6-9a58-48a4-bfc1-f55d3bf4eedc",
   "metadata": {},
   "source": [
    "#### **2.2.1 Model**"
   ]
  },
  {
   "cell_type": "code",
   "execution_count": null,
   "id": "c97d87b5-d718-4eb5-8be8-9807989fd142",
   "metadata": {
    "scrolled": true,
    "tags": []
   },
   "outputs": [],
   "source": [
    "model = Sequential([\n",
    "    tf.keras.Input(shape=(11,)),\n",
    "    Dense(units=10, activation='relu'),\n",
    "    Dense(units=5, activation='relu'),\n",
    "    Dense(units=1, activation='sigmoid')\n",
    "], name='heart_failure_detection')\n",
    "\n",
    "model.summary()\n",
    "\n",
    "model.compile(loss=BinaryCrossentropy(),\n",
    "              optimizer=Adam(1e-3))\n",
    "\n",
    "history = model.fit(X_train, y_train,\n",
    "                    epochs=250)"
   ]
  },
  {
   "cell_type": "markdown",
   "id": "1ff60629-68c1-4f30-ae8b-a6838ce956db",
   "metadata": {},
   "source": [
    "#### **2.2.2 Predict**"
   ]
  },
  {
   "cell_type": "code",
   "execution_count": null,
   "id": "03ccd049-973d-4843-a15e-8068f1ded4ca",
   "metadata": {
    "scrolled": true,
    "tags": []
   },
   "outputs": [],
   "source": [
    "predictions = model.predict(X_test)\n",
    "predictions"
   ]
  },
  {
   "cell_type": "markdown",
   "id": "e1923f7a-8a4d-432f-9cff-a41cc75a578a",
   "metadata": {},
   "source": [
    "### **2.3 Results**"
   ]
  },
  {
   "cell_type": "markdown",
   "id": "1c223846-ff02-431e-9c10-a35bef376be5",
   "metadata": {},
   "source": [
    "#### **2.3.1 Accuracy**"
   ]
  },
  {
   "cell_type": "code",
   "execution_count": null,
   "id": "0d9868e7-8342-40d1-94d4-613ab5ee41a1",
   "metadata": {},
   "outputs": [],
   "source": [
    "tf.metrics.binary_accuracy(y_test, predictions.flatten(),\n",
    "                           threshold=0.5)"
   ]
  },
  {
   "cell_type": "markdown",
   "id": "06f72de7-9f42-4ce0-abeb-caf3a4a3a2ff",
   "metadata": {},
   "source": [
    "#### **2.3.2 Loss evolution**"
   ]
  },
  {
   "cell_type": "code",
   "execution_count": null,
   "id": "04c0b5b3-9bad-4f55-8216-abf8a9008eca",
   "metadata": {},
   "outputs": [],
   "source": [
    "sns.lineplot(x=history.epoch, y=history.history['loss'])\n",
    "\n",
    "plt.xlabel('epoch')\n",
    "plt.ylabel('loss')"
   ]
  },
  {
   "cell_type": "markdown",
   "id": "213769e1-5013-4ad7-9998-9a8fc2908f35",
   "metadata": {
    "tags": []
   },
   "source": [
    "## **3 NumPy implementation (forward propagation)**"
   ]
  },
  {
   "cell_type": "markdown",
   "id": "a6fc1676-364a-4854-bc3b-81242ba19c4e",
   "metadata": {
    "tags": []
   },
   "source": [
    "### **3.1 Analysis**"
   ]
  },
  {
   "cell_type": "markdown",
   "id": "0f86556f-a5e4-4a9b-842f-1341c5fadec2",
   "metadata": {},
   "source": [
    "#### **3.1.1 Activation function**"
   ]
  },
  {
   "cell_type": "markdown",
   "id": "ff6e6e17-ff9a-40ca-b75d-e3f6e9436f51",
   "metadata": {},
   "source": [
    "$$\n",
    "sigmoid(z) = \\frac{1}{1 + e^{-z}}\n",
    "$$"
   ]
  },
  {
   "cell_type": "code",
   "execution_count": null,
   "id": "10f3853f-3551-4208-b443-4ca64c1ead65",
   "metadata": {},
   "outputs": [],
   "source": [
    "def sigmoid(z):\n",
    "    return 1 / (1 + np.exp(-z))"
   ]
  },
  {
   "cell_type": "markdown",
   "id": "87985d73-9fa7-49db-8f4b-947c4c8aa778",
   "metadata": {},
   "source": [
    "#### **3.1.2 Dense layer**"
   ]
  },
  {
   "cell_type": "markdown",
   "id": "f55e9132-3c2b-4dc7-8020-fe4413e21d7b",
   "metadata": {},
   "source": [
    "$$\n",
    "\\vec{a_{out}} = g(\\vec{a_{in}} \\times \\vec{w} + b)\n",
    "$$"
   ]
  },
  {
   "cell_type": "code",
   "execution_count": null,
   "id": "f3800a51-4b4f-4df0-a828-919f58a17fdf",
   "metadata": {},
   "outputs": [],
   "source": [
    "def dense_layer(A_in, W, b, g):\n",
    "    return g(A_in @ W + b)"
   ]
  },
  {
   "cell_type": "markdown",
   "id": "038a392c-ed3f-488a-80d7-2836ec8aa659",
   "metadata": {},
   "source": [
    "#### **3.1.3 Neural Network**"
   ]
  },
  {
   "cell_type": "code",
   "execution_count": null,
   "id": "e7e296ec-a8ba-4844-afe2-2e425acc7b6e",
   "metadata": {},
   "outputs": [],
   "source": [
    "def sequential(X, W1, b1, W2, b2, W3, b3):\n",
    "    A1 = dense_layer(X, W1, b1, sigmoid)\n",
    "    A2 = dense_layer(A1, W2, b2, sigmoid)\n",
    "    A3 = dense_layer(A2, W3, b3, sigmoid)\n",
    "    \n",
    "    return A3"
   ]
  },
  {
   "cell_type": "markdown",
   "id": "fab418fe-b958-438f-aaec-102ef5a46a9e",
   "metadata": {},
   "source": [
    "#### **3.1.4 Predict**"
   ]
  },
  {
   "cell_type": "code",
   "execution_count": null,
   "id": "b140b1e5-6a40-499b-ac0d-7186f3e3b69f",
   "metadata": {
    "scrolled": true,
    "tags": []
   },
   "outputs": [],
   "source": [
    "# Retreive weights and biases from previous model\n",
    "layer1, layer2, layer3 = model.layers\n",
    "\n",
    "W1, b1 = layer1.get_weights()\n",
    "W2, b2 = layer2.get_weights()\n",
    "W3, b3 = layer3.get_weights()\n",
    "\n",
    "predictions = sequential(X_test, W1, b1, W2, b2, W3, b3)\n",
    "predictions"
   ]
  },
  {
   "cell_type": "markdown",
   "id": "7dd9c767-c501-418e-9a1e-6737b96f299f",
   "metadata": {
    "tags": []
   },
   "source": [
    "### **3.2 Results**"
   ]
  },
  {
   "cell_type": "markdown",
   "id": "4e3255f6-e2eb-4256-aff6-8b9026d0551d",
   "metadata": {},
   "source": [
    "#### **3.2.1 Accuracy**"
   ]
  },
  {
   "cell_type": "code",
   "execution_count": null,
   "id": "5e94fe4e-4d46-4555-a8ed-3d06763e2417",
   "metadata": {},
   "outputs": [],
   "source": [
    "tf.metrics.binary_accuracy(y_test, predictions.flatten(),\n",
    "                           threshold=0.5)"
   ]
  }
 ],
 "metadata": {
  "kernelspec": {
   "display_name": "Python 3 (ipykernel)",
   "language": "python",
   "name": "python3"
  },
  "language_info": {
   "codemirror_mode": {
    "name": "ipython",
    "version": 3
   },
   "file_extension": ".py",
   "mimetype": "text/x-python",
   "name": "python",
   "nbconvert_exporter": "python",
   "pygments_lexer": "ipython3",
   "version": "3.10.5"
  },
  "toc-autonumbering": false
 },
 "nbformat": 4,
 "nbformat_minor": 5
}
