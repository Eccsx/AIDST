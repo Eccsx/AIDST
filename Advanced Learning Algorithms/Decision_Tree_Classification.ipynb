{
 "cells": [
  {
   "cell_type": "markdown",
   "id": "84fb97ef-ece3-4861-a673-fbb91c8115dc",
   "metadata": {},
   "source": [
    "# Decision Tree Classification"
   ]
  },
  {
   "cell_type": "markdown",
   "id": "829f3278-4cdb-41aa-b654-96ffc9c5a32c",
   "metadata": {},
   "source": [
    "## **1 Introduction**"
   ]
  },
  {
   "cell_type": "markdown",
   "id": "6d77608f-4245-481d-96bb-316d2703f29a",
   "metadata": {},
   "source": [
    "This notebook is my learning material to keep track of the notions approached in the [Advanced Learning Algorithms](https://www.coursera.org/learn/advanced-learning-algorithms?specialization=machine-learning-introduction) course from the [Machine Learning Specialization](https://www.coursera.org/specializations/machine-learning-introduction) offered by DeepLearning.AI and Standford University.\n",
    "\n",
    "Through this notebook, I use the [Prediction model of in-hospital mortality in intensive care unit patients with heart failure: machine learning-based, retrospective analysis of the MIMIC-III database dataset](https://datadryad.org/stash/dataset/doi:10.5061/dryad.0p2ngf1zd) created by Zhou Jingmin."
   ]
  },
  {
   "cell_type": "markdown",
   "id": "b2bd6d66-4c95-409e-a519-b0a256166f44",
   "metadata": {},
   "source": [
    "### **1.0.1 Imports**"
   ]
  },
  {
   "cell_type": "code",
   "execution_count": null,
   "id": "4ec4687d-004a-403b-8091-0166ff0cd330",
   "metadata": {
    "tags": []
   },
   "outputs": [],
   "source": [
    "import wget\n",
    "\n",
    "# Data manipulation\n",
    "import numpy as np\n",
    "import pandas as pd\n",
    "from sklearn.metrics import accuracy_score\n",
    "from sklearn.model_selection import train_test_split\n",
    "\n",
    "# Decision tree\n",
    "import xgboost as xgb\n",
    "\n",
    "# Options for pandas\n",
    "pd.options.display.max_columns = 50\n",
    "pd.options.display.max_rows = 30\n",
    "\n",
    "# Visualization\n",
    "import matplotlib.pyplot as plt\n",
    "import seaborn as sns\n",
    "\n",
    "# Options for seaborn\n",
    "sns.set_style('darkgrid')\n",
    "%matplotlib inline\n",
    "\n",
    "from IPython import get_ipython\n",
    "ipython = get_ipython()\n",
    "\n",
    "# Autoreload extesnions\n",
    "if 'autoreload' not in ipython.extension_manager.loaded:\n",
    "    %load_ext autoreload"
   ]
  },
  {
   "cell_type": "markdown",
   "id": "ed5b4ce2-766b-4dff-a90a-fafc7b766319",
   "metadata": {},
   "source": [
    "### **1.1 Data**"
   ]
  },
  {
   "cell_type": "markdown",
   "id": "cef9a9ec-f69f-46ea-8ea0-7c1b25baf2c3",
   "metadata": {},
   "source": [
    "#### **1.1.0.1 Download**"
   ]
  },
  {
   "cell_type": "code",
   "execution_count": null,
   "id": "3677f49c-758d-4d4c-ad76-c647b9bb8cec",
   "metadata": {
    "tags": []
   },
   "outputs": [],
   "source": [
    "url = 'https://datadryad.org/stash/downloads/file_stream/773992'\n",
    "filename = wget.download(url)"
   ]
  },
  {
   "cell_type": "markdown",
   "id": "04e4d25f-6669-4cd9-9344-070dbaa2cbbc",
   "metadata": {},
   "source": [
    "#### **1.1.0.2 Import**"
   ]
  },
  {
   "cell_type": "code",
   "execution_count": null,
   "id": "40e29890-e453-431c-bc37-026a79c51327",
   "metadata": {
    "tags": []
   },
   "outputs": [],
   "source": [
    "mortality = pd.read_csv(filename)"
   ]
  },
  {
   "cell_type": "markdown",
   "id": "d3f7316b-6645-464d-bc7d-3340711aef4d",
   "metadata": {},
   "source": [
    "#### **1.1.1 Exploratory Data Analysis**"
   ]
  },
  {
   "cell_type": "code",
   "execution_count": null,
   "id": "764f1b4e-857a-4d14-b7ae-1c3e80aadd07",
   "metadata": {
    "tags": []
   },
   "outputs": [],
   "source": [
    "mortality.info()\n",
    "mortality.describe()"
   ]
  },
  {
   "cell_type": "code",
   "execution_count": null,
   "id": "dd128212-3977-447a-ad29-f6c3fa41d137",
   "metadata": {
    "tags": []
   },
   "outputs": [],
   "source": [
    "print(f'Number of missing values: {mortality.isna().sum().sum()}')\n",
    "print(f'Number of missing values per column:\\n{mortality.isna().sum()}')"
   ]
  },
  {
   "cell_type": "markdown",
   "id": "4ddebaff-7a99-4c9b-83d6-e86ded945193",
   "metadata": {},
   "source": [
    "## **2 Classification**"
   ]
  },
  {
   "cell_type": "markdown",
   "id": "e6bbe612-f53a-403a-8d71-10fe04ea804c",
   "metadata": {},
   "source": [
    "### **2.1 Preprocessing**"
   ]
  },
  {
   "cell_type": "markdown",
   "id": "ecbb7546-46bf-47fb-a7f6-2228d97c33dc",
   "metadata": {
    "execution": {
     "iopub.execute_input": "2022-07-21T14:54:18.151374Z",
     "iopub.status.busy": "2022-07-21T14:54:18.150761Z",
     "iopub.status.idle": "2022-07-21T14:54:18.154009Z",
     "shell.execute_reply": "2022-07-21T14:54:18.153523Z",
     "shell.execute_reply.started": "2022-07-21T14:54:18.151355Z"
    },
    "tags": []
   },
   "source": [
    "#### **2.1.1 Missing values**"
   ]
  },
  {
   "cell_type": "code",
   "execution_count": null,
   "id": "604ac4e8-547e-4116-bf18-3c9e3f2e1027",
   "metadata": {
    "tags": []
   },
   "outputs": [],
   "source": [
    "# Apply research team 'Missing Data Handling' recommendation\n",
    "for c in mortality.columns[mortality.isna().any()]:\n",
    "    if mortality[c].dtypes == 'int64':\n",
    "        # Replace missing value by the serie's median\n",
    "        mortality[c].fillna(mortality[c].median(), inplace=True)\n",
    "    else:\n",
    "        # Replace missing value by the serie's mean\n",
    "        mortality[c].fillna(mortality[c].mean(), inplace=True)\n",
    "        \n",
    "print(f'Number of missing values: {mortality.isna().sum().sum()}')"
   ]
  },
  {
   "cell_type": "markdown",
   "id": "8b23a91a-fd6c-446e-93ff-808818c6887b",
   "metadata": {
    "execution": {
     "iopub.execute_input": "2022-07-21T14:54:18.151374Z",
     "iopub.status.busy": "2022-07-21T14:54:18.150761Z",
     "iopub.status.idle": "2022-07-21T14:54:18.154009Z",
     "shell.execute_reply": "2022-07-21T14:54:18.153523Z",
     "shell.execute_reply.started": "2022-07-21T14:54:18.151355Z"
    },
    "tags": []
   },
   "source": [
    "#### **2.1.2 Remove non useful feature**"
   ]
  },
  {
   "cell_type": "code",
   "execution_count": null,
   "id": "8ef9cc30-c5ac-4938-8228-710b23aabc62",
   "metadata": {
    "tags": []
   },
   "outputs": [],
   "source": [
    "mortality.drop(['group', 'ID'], axis=1, inplace=True)"
   ]
  },
  {
   "cell_type": "markdown",
   "id": "9fbff835-14bc-4f53-b11c-793914f9b048",
   "metadata": {
    "tags": []
   },
   "source": [
    "#### **2.1.3 Split data**"
   ]
  },
  {
   "cell_type": "code",
   "execution_count": null,
   "id": "2a657a5c-e5ab-4b69-ae98-a07649bc4725",
   "metadata": {
    "tags": []
   },
   "outputs": [],
   "source": [
    "X = mortality.drop('outcome', axis=1)\n",
    "y = mortality['outcome']\n",
    "\n",
    "X_tmp, X_test, y_tmp, y_test = train_test_split(X, y,\n",
    "                                                 test_size=0.2,\n",
    "                                                 random_state=42)\n",
    "X_train, X_val, y_train, y_val = train_test_split(X_tmp, y_tmp,\n",
    "                                                  train_size=0.75,\n",
    "                                                  random_state=42)\n",
    "\n",
    "print(X_train.shape, y_train.shape)\n",
    "print(X_val.shape, y_val.shape)\n",
    "print(X_test.shape, y_test.shape)"
   ]
  },
  {
   "cell_type": "markdown",
   "id": "06eaac6e-f5ee-49ce-b0c2-90ed2363ca5a",
   "metadata": {},
   "source": [
    "### **2.2 Model**"
   ]
  },
  {
   "cell_type": "markdown",
   "id": "ec464819-aa59-49e8-9c1a-b7acf3f4007a",
   "metadata": {},
   "source": [
    "#### **2.2.1 Building**"
   ]
  },
  {
   "cell_type": "code",
   "execution_count": null,
   "id": "5cd2d774-8c8b-4f84-99af-5e2697079935",
   "metadata": {
    "tags": []
   },
   "outputs": [],
   "source": [
    "depth = X_train.shape[1]\n",
    "\n",
    "xgb_cl = xgb.XGBClassifier()"
   ]
  },
  {
   "cell_type": "markdown",
   "id": "d64be52f-d712-4d50-885b-04de5b57a934",
   "metadata": {
    "execution": {
     "iopub.execute_input": "2022-07-22T15:15:10.721955Z",
     "iopub.status.busy": "2022-07-22T15:15:10.721576Z",
     "iopub.status.idle": "2022-07-22T15:15:10.725338Z",
     "shell.execute_reply": "2022-07-22T15:15:10.724807Z",
     "shell.execute_reply.started": "2022-07-22T15:15:10.721934Z"
    },
    "tags": []
   },
   "source": [
    "#### **2.2.2 Training**"
   ]
  },
  {
   "cell_type": "code",
   "execution_count": null,
   "id": "9abf53a0-cf0a-413e-9466-42793811c628",
   "metadata": {
    "scrolled": true,
    "tags": []
   },
   "outputs": [],
   "source": [
    "_ = xgb_cl.fit(X_train, y_train,\n",
    "               eval_set=[(X_val, y_val)])"
   ]
  },
  {
   "cell_type": "markdown",
   "id": "69662b7a-2883-48ed-b656-0667f8c4ceca",
   "metadata": {},
   "source": [
    "#### **2.2.3 Test**"
   ]
  },
  {
   "cell_type": "code",
   "execution_count": null,
   "id": "c585fcf2-472f-40d3-9113-8ecdb2a44af4",
   "metadata": {
    "tags": []
   },
   "outputs": [],
   "source": [
    "preds = xgb_cl.predict(X_test)\n",
    "\n",
    "print(f'Accuracy: {accuracy_score(y_test, preds)}')"
   ]
  },
  {
   "cell_type": "markdown",
   "id": "fdf9e189-aed6-4e04-8a63-3b3e818c1aca",
   "metadata": {
    "tags": []
   },
   "source": [
    "## **3 Results**"
   ]
  },
  {
   "cell_type": "code",
   "execution_count": null,
   "id": "72b641e9-a6e8-4df3-a0df-5b6fa8dc8d23",
   "metadata": {
    "tags": []
   },
   "outputs": [],
   "source": [
    "fig, ax = plt.subplots(figsize=(35, 35))\n",
    "\n",
    "xgb.plot_tree(xgb_cl, ax=ax)"
   ]
  },
  {
   "cell_type": "code",
   "execution_count": null,
   "id": "cf7bad1f-603b-441f-b7ae-b81d4d8a778d",
   "metadata": {
    "tags": []
   },
   "outputs": [],
   "source": [
    "fig, ax = plt.subplots(figsize=(10, 10))\n",
    "\n",
    "xgb.plot_importance(xgb_cl,\n",
    "                    show_values=True,\n",
    "                    ax=ax)"
   ]
  }
 ],
 "metadata": {
  "kernelspec": {
   "display_name": "Python 3 (ipykernel)",
   "language": "python",
   "name": "python3"
  },
  "language_info": {
   "codemirror_mode": {
    "name": "ipython",
    "version": 3
   },
   "file_extension": ".py",
   "mimetype": "text/x-python",
   "name": "python",
   "nbconvert_exporter": "python",
   "pygments_lexer": "ipython3",
   "version": "3.10.5"
  }
 },
 "nbformat": 4,
 "nbformat_minor": 5
}
