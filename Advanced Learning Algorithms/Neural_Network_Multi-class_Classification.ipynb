{
 "cells": [
  {
   "cell_type": "markdown",
   "id": "e8ba3e3a-322a-4ee6-a454-85a744fadb8e",
   "metadata": {},
   "source": [
    "# Neural Network Multi-class Classification"
   ]
  },
  {
   "cell_type": "markdown",
   "id": "6debed5f-4f1e-4bd2-8c4c-7d853d8ee943",
   "metadata": {},
   "source": [
    "## **1 Introduction**"
   ]
  },
  {
   "cell_type": "markdown",
   "id": "db98ab13-4ee1-4463-b4e2-28a0a2d80081",
   "metadata": {},
   "source": [
    "This notebook is my learning material to keep track of the notions approached in the [Advanced Learning Algorithms](https://www.coursera.org/learn/advanced-learning-algorithms?specialization=machine-learning-introduction) course from the [Machine Learning Specialization](https://www.coursera.org/specializations/machine-learning-introduction) offered by DeepLearning.AI and Standford University.\n",
    "\n",
    "Through this notebook, I use the [TEM virus dataset](https://data.mendeley.com/datasets/x4dwwfwtw3/3) created by Damian Matuszewski and\n",
    "Ida-Maria Sintorn."
   ]
  },
  {
   "cell_type": "markdown",
   "id": "06698b17-c2ef-4676-be34-f1ee3238bc6f",
   "metadata": {},
   "source": [
    "### **1.0.1 Imports**"
   ]
  },
  {
   "cell_type": "code",
   "execution_count": null,
   "id": "89d50f0d-4cb0-4029-b618-c66e52bf550d",
   "metadata": {
    "tags": []
   },
   "outputs": [],
   "source": [
    "import os\n",
    "import wget\n",
    "import shutil\n",
    "import zipfile\n",
    "\n",
    "# Data manipulation\n",
    "import numpy as np\n",
    "import pandas as pd\n",
    "from sklearn.preprocessing import LabelEncoder\n",
    "\n",
    "# Image manipulation\n",
    "from skimage.io import imread \n",
    "from skimage.transform import rescale\n",
    "\n",
    "# Machine Learning\n",
    "import tensorflow as tf\n",
    "from tensorflow.keras import Sequential\n",
    "from tensorflow.keras.layers import Dense, Dropout, Flatten, Rescaling\n",
    "from tensorflow.keras.losses import SparseCategoricalCrossentropy\n",
    "from tensorflow.keras.metrics import SparseCategoricalAccuracy\n",
    "from tensorflow.keras.optimizers import Adam \n",
    "from tensorflow.keras.regularizers import L2\n",
    "\n",
    "# Options for pandas\n",
    "pd.options.display.max_columns = 50\n",
    "pd.options.display.max_rows = 30\n",
    "\n",
    "# Visualization\n",
    "import matplotlib.pyplot as plt\n",
    "import seaborn as sns\n",
    "\n",
    "# Options for seaborn\n",
    "sns.set_style('darkgrid')\n",
    "%matplotlib inline\n",
    "\n",
    "from IPython import get_ipython\n",
    "ipython = get_ipython()\n",
    "\n",
    "# Autoreload extesnions\n",
    "if 'autoreload' not in ipython.extension_manager.loaded:\n",
    "    %load_ext autoreload"
   ]
  },
  {
   "cell_type": "markdown",
   "id": "95b875d2-e83a-4b38-bc8e-355b9ccd0cd2",
   "metadata": {},
   "source": [
    "### **1.1 Data**"
   ]
  },
  {
   "cell_type": "markdown",
   "id": "f574df82-eed3-4794-b122-29304e370cab",
   "metadata": {},
   "source": [
    "#### **1.1.0.1 Download**"
   ]
  },
  {
   "cell_type": "code",
   "execution_count": null,
   "id": "484ad349-74f7-4613-93ed-47e29e17f242",
   "metadata": {
    "tags": []
   },
   "outputs": [],
   "source": [
    "url = 'https://md-datasets-cache-zipfiles-prod.s3.eu-west-1.amazonaws.com/x4dwwfwtw3-3.zip'\n",
    "filename = wget.download(url)"
   ]
  },
  {
   "cell_type": "markdown",
   "id": "326ebe78-f18b-4ba5-8653-731871825e6c",
   "metadata": {},
   "source": [
    "#### **1.1.0.2 Reorganize**"
   ]
  },
  {
   "cell_type": "code",
   "execution_count": null,
   "id": "12f7ecee-5a57-4085-b94e-65b7c2800b15",
   "metadata": {
    "tags": []
   },
   "outputs": [],
   "source": [
    "with zipfile.ZipFile('x4dwwfwtw3-3.zip') as zf:\n",
    "    zf.extractall('TEM_virus')\n",
    "    \n",
    "# Keep the 256x256 image data\n",
    "shutil.move('TEM_virus/context_virus_1nm_256x256/augmented_train/', 'TEM_virus/train')\n",
    "shutil.move('TEM_virus/context_virus_1nm_256x256/validation/', 'TEM_virus/')\n",
    "shutil.move('TEM_virus/context_virus_1nm_256x256/test/', 'TEM_virus/')\n",
    "\n",
    "shutil.rmtree('TEM_virus/context_virus_1nm_256x256/')\n",
    "shutil.rmtree('TEM_virus/context_virus_RAW/')\n",
    "\n",
    "# Remove excluded data from test and validation set\n",
    "shutil.rmtree('TEM_virus/test/_EXCLUDED/')\n",
    "shutil.rmtree('TEM_virus/validation/_EXCLUDED/')"
   ]
  },
  {
   "cell_type": "markdown",
   "id": "3e8f6d95-dd58-46dc-979e-6644b0fdb142",
   "metadata": {},
   "source": [
    "#### **1.1.0.3 Import**"
   ]
  },
  {
   "cell_type": "code",
   "execution_count": null,
   "id": "77b8da03-4327-465d-a45f-af71c86e4419",
   "metadata": {
    "tags": []
   },
   "outputs": [],
   "source": [
    "virus_train = pd.DataFrame(columns=['Image', 'Pixels', 'Type'])\n",
    "virus_validation = pd.DataFrame(columns=['Image', 'Pixels', 'Type'])\n",
    "virus_test = pd.DataFrame(columns=['Image', 'Pixels', 'Type'])\n",
    "\n",
    "root = 'TEM_virus/'\n",
    "index = 0\n",
    "\n",
    "for d in os.listdir(root):\n",
    "    d_path = os.path.join(root, d)\n",
    "    \n",
    "    for sd in os.listdir(d_path):\n",
    "        sd_path = os.path.join(d_path, sd)\n",
    "        \n",
    "        for f in os.listdir(sd_path):\n",
    "            f_path = os.path.join(sd_path, f)\n",
    "            \n",
    "            # Delete crop_outlines folder\n",
    "            if f == 'crop_outlines':\n",
    "                shutil.rmtree(f_path)\n",
    "                continue\n",
    "                \n",
    "            # Add data to dataframe\n",
    "            new_data = pd.DataFrame([[f_path, imread(f_path), sd]],\n",
    "                                    columns=['Image', 'Pixels', 'Type'])\n",
    "            if d == 'train':\n",
    "                virus_train = pd.concat([virus_train, new_data],\n",
    "                                        ignore_index=True)\n",
    "                continue\n",
    "                \n",
    "            if d == 'validation':\n",
    "                virus_validation = pd.concat([virus_validation, new_data],\n",
    "                                             ignore_index=True)\n",
    "                continue\n",
    "                \n",
    "            if d == 'test':\n",
    "                virus_test = pd.concat([virus_test, new_data],\n",
    "                                        ignore_index=True)\n",
    "                continue"
   ]
  },
  {
   "cell_type": "markdown",
   "id": "ff5cfa1e-5a96-47a1-b199-5cb67be8b28e",
   "metadata": {},
   "source": [
    "#### **1.1. Exploratory Data Analysis**"
   ]
  },
  {
   "cell_type": "code",
   "execution_count": null,
   "id": "15629330-803d-4a1c-a129-9ca80bb2e13b",
   "metadata": {
    "tags": []
   },
   "outputs": [],
   "source": [
    "virus_train.info()\n",
    "virus_validation.info()\n",
    "virus_test.info()"
   ]
  },
  {
   "cell_type": "code",
   "execution_count": null,
   "id": "2f080809-f5b1-474e-92dc-cda0470e7ea6",
   "metadata": {
    "tags": []
   },
   "outputs": [],
   "source": [
    "virus_train.head()"
   ]
  },
  {
   "cell_type": "code",
   "execution_count": null,
   "id": "3364a9b9-fc5c-4475-ab3b-f2b29fdf181c",
   "metadata": {
    "tags": []
   },
   "outputs": [],
   "source": [
    "fig, axes = plt.subplots(1, 3,\n",
    "                         sharey=True,\n",
    "                         figsize=(15, 5))\n",
    "\n",
    "sns.countplot(data=virus_train, x='Type',\n",
    "              ax=axes[0])\n",
    "sns.countplot(data=virus_validation, x='Type',\n",
    "              ax=axes[1])\n",
    "sns.countplot(data=virus_test, x='Type',\n",
    "              ax=axes[2])\n",
    "\n",
    "axes[0].set_title('Train')\n",
    "axes[1].set_title('Validation')\n",
    "axes[2].set_title('Test')\n",
    "\n",
    "axes[0].tick_params(axis='x', rotation=90)\n",
    "axes[1].tick_params(axis='x', rotation=90)\n",
    "axes[2].tick_params(axis='x', rotation=90)"
   ]
  },
  {
   "cell_type": "code",
   "execution_count": null,
   "id": "7c390554-7566-4137-b7b2-e754965cc44e",
   "metadata": {
    "tags": []
   },
   "outputs": [],
   "source": [
    "virus_train_pixels_group = virus_train.groupby('Type')['Pixels'].apply(np.stack)\n",
    "virus_train_pixels_group"
   ]
  },
  {
   "cell_type": "markdown",
   "id": "6881b993-99f4-41c3-95de-f892c1dceda3",
   "metadata": {},
   "source": [
    "#### **2.2.1 Model**"
   ]
  },
  {
   "cell_type": "code",
   "execution_count": null,
   "id": "d8cd69aa-f3b9-485c-99be-cbf089bb878b",
   "metadata": {
    "tags": []
   },
   "outputs": [],
   "source": [
    "fig, axes = plt.subplots(2, 7,\n",
    "                         sharey=True,\n",
    "                         figsize=(25, 7))\n",
    "\n",
    "for ax, k in zip(fig.axes, virus_train_pixels_group.keys()):\n",
    "    sns.heatmap(virus_train_pixels_group[k].mean(axis=0),\n",
    "                vmin=0, vmax=255,\n",
    "                cmap='binary',\n",
    "                square=True,\n",
    "                xticklabels=False, yticklabels=False,\n",
    "                cbar=False,\n",
    "                ax=ax)\n",
    "    ax.set_title(k)\n",
    "    \n",
    "fig.suptitle('Viruses mean pixel values', fontsize=16)"
   ]
  },
  {
   "cell_type": "markdown",
   "id": "fb0b8a85-cadc-4af7-8272-78b63b6770cb",
   "metadata": {},
   "source": [
    "## **2 Classification**"
   ]
  },
  {
   "cell_type": "markdown",
   "id": "010e63d2-40c1-48ea-8d07-49d578ab1eeb",
   "metadata": {},
   "source": [
    "### **2.1 Preprocessing**"
   ]
  },
  {
   "cell_type": "markdown",
   "id": "3b2c1797-0b1d-46e9-ae6a-cba392f7ff68",
   "metadata": {
    "execution": {
     "iopub.execute_input": "2022-07-21T14:54:18.151374Z",
     "iopub.status.busy": "2022-07-21T14:54:18.150761Z",
     "iopub.status.idle": "2022-07-21T14:54:18.154009Z",
     "shell.execute_reply": "2022-07-21T14:54:18.153523Z",
     "shell.execute_reply.started": "2022-07-21T14:54:18.151355Z"
    },
    "tags": []
   },
   "source": [
    "#### **2.1.1 Image downscale**"
   ]
  },
  {
   "cell_type": "code",
   "execution_count": null,
   "id": "396b8834-0335-413a-b760-4f0a48e09c45",
   "metadata": {
    "tags": []
   },
   "outputs": [],
   "source": [
    "RESIZE_FACTOR = 0.125\n",
    "\n",
    "def downscale(img):\n",
    "    return rescale(img, RESIZE_FACTOR, anti_aliasing=True) * 255"
   ]
  },
  {
   "cell_type": "code",
   "execution_count": null,
   "id": "adc0e992-d72a-442a-a5d8-873b196e3706",
   "metadata": {
    "tags": []
   },
   "outputs": [],
   "source": [
    "virus_train['Pixels downscaled'] = virus_train['Pixels'].apply(lambda x: downscale(x))\n",
    "virus_validation['Pixels downscaled'] = virus_validation['Pixels'].apply(lambda x: downscale(x))\n",
    "virus_test['Pixels downscaled'] = virus_test['Pixels'].apply(lambda x: downscale(x))\n",
    "\n",
    "virus_train[['Pixels', 'Pixels downscaled']]"
   ]
  },
  {
   "cell_type": "code",
   "execution_count": null,
   "id": "d7e4fc38-6dab-4ccb-b9ac-103fc1cccdd4",
   "metadata": {
    "tags": []
   },
   "outputs": [],
   "source": [
    "virus_train_pixels_downscaled_group = virus_train.groupby('Type')['Pixels downscaled'].apply(np.stack)\n",
    "\n",
    "fig, axes = plt.subplots(2, 7,\n",
    "                         sharey=True,\n",
    "                         figsize=(25, 7))\n",
    "\n",
    "for ax, k in zip(fig.axes, virus_train_pixels_downscaled_group.keys()):\n",
    "    sns.heatmap(virus_train_pixels_downscaled_group[k].mean(axis=0),\n",
    "                vmin=0, vmax=255,\n",
    "                cmap='binary',\n",
    "                square=True,\n",
    "                xticklabels=False, yticklabels=False,\n",
    "                cbar=False,\n",
    "                ax=ax)\n",
    "    ax.set_title(k)\n",
    "    \n",
    "fig.suptitle('Viruses mean downscaled pixel values', fontsize=16)"
   ]
  },
  {
   "cell_type": "markdown",
   "id": "f2b7c15c-d35f-48ac-bead-046b1b678c6f",
   "metadata": {
    "tags": []
   },
   "source": [
    "#### **2.1.2 Split data**"
   ]
  },
  {
   "cell_type": "code",
   "execution_count": null,
   "id": "d48db5ce-57e1-48eb-b82f-4b619fbcc048",
   "metadata": {
    "tags": []
   },
   "outputs": [],
   "source": [
    "X_train = np.array(virus_train['Pixels downscaled'].tolist())\n",
    "y_train = virus_train['Type'].values\n",
    "\n",
    "X_validation = np.array(virus_validation['Pixels downscaled'].tolist())\n",
    "y_validation = virus_validation['Type'].values\n",
    "\n",
    "X_test = np.array(virus_test['Pixels downscaled'].tolist())\n",
    "y_test = virus_test['Type'].values\n",
    "\n",
    "print(X_train.shape, y_train.shape)\n",
    "print(X_validation.shape, y_validation.shape)\n",
    "print(X_test.shape, y_test.shape)"
   ]
  },
  {
   "cell_type": "markdown",
   "id": "27012684-c7bb-4a0f-94c4-18073345e19e",
   "metadata": {
    "execution": {
     "iopub.execute_input": "2022-07-22T14:03:30.651812Z",
     "iopub.status.busy": "2022-07-22T14:03:30.651062Z",
     "iopub.status.idle": "2022-07-22T14:03:30.659030Z",
     "shell.execute_reply": "2022-07-22T14:03:30.657756Z",
     "shell.execute_reply.started": "2022-07-22T14:03:30.651750Z"
    },
    "tags": []
   },
   "source": [
    "#### **2.1.3  Feature scaling and label enconding**"
   ]
  },
  {
   "cell_type": "code",
   "execution_count": null,
   "id": "3c5ee071-2091-4891-89a7-b02674c56b9d",
   "metadata": {
    "tags": []
   },
   "outputs": [],
   "source": [
    "le = LabelEncoder()\n",
    "\n",
    "y_train = le.fit_transform(y_train)\n",
    "y_validation = le.fit_transform(y_validation)\n",
    "y_test = le.fit_transform(y_test)"
   ]
  },
  {
   "cell_type": "markdown",
   "id": "2c32079b-37f1-4418-ab9b-7446e403f9c7",
   "metadata": {},
   "source": [
    "### **2.2 Model**"
   ]
  },
  {
   "cell_type": "markdown",
   "id": "e9b8f32c-bbd9-404c-8549-330262f1eeae",
   "metadata": {},
   "source": [
    "#### **2.2.1 Building**"
   ]
  },
  {
   "cell_type": "code",
   "execution_count": null,
   "id": "fbd722d5-74b2-4658-b22c-07161e65c1bc",
   "metadata": {
    "tags": []
   },
   "outputs": [],
   "source": [
    "model = Sequential([\n",
    "    Rescaling(1./255, input_shape=(32, 32)),\n",
    "    Flatten(input_shape=(32, 32)),\n",
    "    Dense(units=100, activation='relu'), # FIND RANDOMLY\n",
    "    Dense(units=14, activation='linear'),\n",
    "], name='virus_classification')\n",
    "\n",
    "model.summary()"
   ]
  },
  {
   "cell_type": "markdown",
   "id": "2ee19e55-245c-489c-891a-72c4da5052a2",
   "metadata": {
    "execution": {
     "iopub.execute_input": "2022-07-22T15:15:10.721955Z",
     "iopub.status.busy": "2022-07-22T15:15:10.721576Z",
     "iopub.status.idle": "2022-07-22T15:15:10.725338Z",
     "shell.execute_reply": "2022-07-22T15:15:10.724807Z",
     "shell.execute_reply.started": "2022-07-22T15:15:10.721934Z"
    },
    "tags": []
   },
   "source": [
    "#### **2.2.2 Training and validation**"
   ]
  },
  {
   "cell_type": "code",
   "execution_count": null,
   "id": "16f950df-3175-4c41-ba6a-82e46985b195",
   "metadata": {
    "scrolled": true,
    "tags": []
   },
   "outputs": [],
   "source": [
    "model.compile(loss=SparseCategoricalCrossentropy(from_logits=True),\n",
    "              optimizer=Adam(1e-3),\n",
    "              metrics=[SparseCategoricalAccuracy()])\n",
    "\n",
    "np.random.seed(100)\n",
    "\n",
    "history = model.fit(X_train, y_train,\n",
    "                    epochs=100,\n",
    "                    validation_data=(X_validation, y_validation),\n",
    "                    verbose=2)"
   ]
  },
  {
   "cell_type": "markdown",
   "id": "7c85a706-42c2-4b7d-b1dd-f82e87e1f406",
   "metadata": {},
   "source": [
    "#### **2.2.3 Test**"
   ]
  },
  {
   "cell_type": "code",
   "execution_count": null,
   "id": "a8de21d4-cdbd-4f83-917f-27ee4e2da289",
   "metadata": {
    "tags": []
   },
   "outputs": [],
   "source": [
    "score = model.evaluate(X_test, y_test)\n",
    "\n",
    "print('Test loss, Test acc: ', score)"
   ]
  },
  {
   "cell_type": "markdown",
   "id": "c3805bfa-d3f0-4175-9a26-6903905cf732",
   "metadata": {},
   "source": [
    "## **3 Results**"
   ]
  },
  {
   "cell_type": "markdown",
   "id": "96f8de53-9cf4-407a-a088-e7752f3e3496",
   "metadata": {},
   "source": [
    "### **3.1 History**"
   ]
  },
  {
   "cell_type": "code",
   "execution_count": null,
   "id": "0989f9e0-bf2b-47c6-9fc0-1e51d8312ef9",
   "metadata": {
    "tags": []
   },
   "outputs": [],
   "source": [
    "fig, axes = plt.subplots(2, 2,\n",
    "                         sharex=True,\n",
    "                         figsize=(10, 5))\n",
    "palette = iter(sns.color_palette())\n",
    "\n",
    "for ax, m in zip(fig.axes, history.history):\n",
    "    sns.lineplot(x=history.epoch, y=history.history[m],\n",
    "                 color=next(palette),\n",
    "                 ax=ax)\n",
    "    ax.set_title(m)\n",
    "\n",
    "fig.suptitle('Training history', fontsize=16)\n",
    "fig.supxlabel('epoch')"
   ]
  },
  {
   "cell_type": "markdown",
   "id": "5605bd7c-1891-4283-9275-976f0590106b",
   "metadata": {},
   "source": [
    "### **3.2 Accuracy**"
   ]
  },
  {
   "cell_type": "code",
   "execution_count": null,
   "id": "71e5a09e-6d4f-4aa4-b88b-52102a631789",
   "metadata": {
    "tags": []
   },
   "outputs": [],
   "source": [
    "fig, axes = plt.subplots(8, 8,\n",
    "                         figsize=(8, 8))\n",
    "\n",
    "for i, ax in enumerate(axes.flat):\n",
    "    random_index = np.random.randint(virus_test.shape[0])\n",
    "    img = X_test[random_index]\n",
    "    y = y_test[random_index]\n",
    "    \n",
    "    prediction = model.predict(img.reshape(1, 32, 32))\n",
    "    y_hat = prediction.argmax()\n",
    "    \n",
    "    ax.imshow(img, cmap='Greens' if y_hat == y else 'Reds')\n",
    "    \n",
    "    ax.set_title(f'{y},{y_hat}')\n",
    "    ax.set_axis_off()\n",
    "\n",
    "fig.suptitle('Label, Prediction', fontsize=16)\n",
    "plt.tight_layout()"
   ]
  },
  {
   "cell_type": "code",
   "execution_count": null,
   "id": "badacfe8-9403-4235-965b-200d3944c9ef",
   "metadata": {
    "tags": []
   },
   "outputs": [],
   "source": [
    "predictions = pd.DataFrame()\n",
    "\n",
    "predictions['y_test'] = le.inverse_transform(y_test)\n",
    "predictions['prediction'] = le.inverse_transform([v.argmax() for v in model.predict(X_test)])\n",
    "\n",
    "accuracy = predictions.groupby(['y_test', 'prediction']).value_counts().reset_index(name='count')\n",
    "accuracy['percentage'] = accuracy['count'] / accuracy.groupby('y_test')['count'].transform('sum')\n",
    "\n",
    "plt.figure(figsize=(8, 8))\n",
    "\n",
    "sns.heatmap(data=pd.pivot_table(data=accuracy,\n",
    "                                index='y_test', columns='prediction', values='percentage',\n",
    "                                fill_value=0),\n",
    "            square=True,\n",
    "            cmap='binary')\n",
    "\n",
    "plt.suptitle('Predicition distribution', fontsize=16)"
   ]
  }
 ],
 "metadata": {
  "kernelspec": {
   "display_name": "Python 3 (ipykernel)",
   "language": "python",
   "name": "python3"
  },
  "language_info": {
   "codemirror_mode": {
    "name": "ipython",
    "version": 3
   },
   "file_extension": ".py",
   "mimetype": "text/x-python",
   "name": "python",
   "nbconvert_exporter": "python",
   "pygments_lexer": "ipython3",
   "version": "3.10.5"
  }
 },
 "nbformat": 4,
 "nbformat_minor": 5
}
