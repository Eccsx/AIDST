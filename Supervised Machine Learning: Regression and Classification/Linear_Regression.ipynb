{
 "cells": [
  {
   "cell_type": "markdown",
   "id": "298f75c4-f706-4f49-9ce0-56ee0dbb70f0",
   "metadata": {},
   "source": [
    "# **Linear Regression**"
   ]
  },
  {
   "cell_type": "markdown",
   "id": "7093c4d4-3843-4565-b7ad-310ecbea5c62",
   "metadata": {},
   "source": [
    "## **1 Introduction**"
   ]
  },
  {
   "cell_type": "markdown",
   "id": "674c2bf3-ec66-415a-8317-a57267901889",
   "metadata": {},
   "source": [
    "This notebook is my learning material to keep track of the notions approached in the [Supervised Machine Learning: Regression and Classification](https://www.coursera.org/learn/machine-learning?specialization=machine-learning-introduction) course from the [Machine Learning Specialization](https://www.coursera.org/specializations/machine-learning-introduction) offered by DeepLearning.AI and Standord University.\n",
    "\n",
    "Through this notebook, I use the [Housing dataset](https://www.kaggle.com/datasets/ashydv/housing-dataset) created by Ashish."
   ]
  },
  {
   "cell_type": "markdown",
   "id": "392f90bb-63ce-4cb1-9f6b-1a551188c594",
   "metadata": {
    "tags": []
   },
   "source": [
    "### **1.0.1 Imports**"
   ]
  },
  {
   "cell_type": "code",
   "execution_count": null,
   "id": "5197eeaa-3c6f-41e1-9a13-6204408c00fe",
   "metadata": {},
   "outputs": [],
   "source": [
    "# Data manipulation\n",
    "import numpy as np\n",
    "import pandas as pd\n",
    "from sklearn.linear_model import SGDRegressor\n",
    "from sklearn.preprocessing import StandardScaler \n",
    "\n",
    "# Options for pandas\n",
    "pd.options.display.max_columns = 50\n",
    "pd.options.display.max_rows = 30\n",
    "\n",
    "# Visualization\n",
    "import matplotlib.pyplot as plt\n",
    "import seaborn as sns\n",
    "\n",
    "# Options for seaborn\n",
    "sns.set_style('darkgrid')\n",
    "%matplotlib inline\n",
    "\n",
    "from IPython import get_ipython\n",
    "ipython = get_ipython()\n",
    "\n",
    "# Autoreload extesnions\n",
    "if 'autoreload' not in ipython.extension_manager.loaded:\n",
    "    %load_ext autoreload"
   ]
  },
  {
   "cell_type": "markdown",
   "id": "9427269e-0849-40aa-9f2f-18cfd21f4f40",
   "metadata": {},
   "source": [
    "### **1.1 Data**"
   ]
  },
  {
   "cell_type": "markdown",
   "id": "710374ef-5c27-4939-b23f-b10c1dbaaef9",
   "metadata": {},
   "source": [
    "#### **1.1.0.1 Import**"
   ]
  },
  {
   "cell_type": "code",
   "execution_count": null,
   "id": "71df83b1-89be-4328-9ed6-3c9eaaa33f93",
   "metadata": {},
   "outputs": [],
   "source": [
    "housing = pd.read_csv('Housing.xls')\n",
    "housing"
   ]
  },
  {
   "cell_type": "markdown",
   "id": "c6034c85-8a4e-4d85-8055-ab4819bcae9c",
   "metadata": {},
   "source": [
    "#### **1.1.1 Exploratory Data Analysis**"
   ]
  },
  {
   "cell_type": "code",
   "execution_count": null,
   "id": "44546653-933e-4281-ae41-72bb08600b24",
   "metadata": {},
   "outputs": [],
   "source": [
    "housing.info()\n",
    "housing.describe()"
   ]
  },
  {
   "cell_type": "markdown",
   "id": "4cc53f24-6dd7-42a0-9329-36efb24d227c",
   "metadata": {},
   "source": [
    "## **2 One-variable Linear Regression**"
   ]
  },
  {
   "cell_type": "markdown",
   "id": "8491793e-db5a-412c-bf46-58dafca08fb3",
   "metadata": {},
   "source": [
    "### **2.1 Data preparation**"
   ]
  },
  {
   "cell_type": "code",
   "execution_count": null,
   "id": "5e859125-629a-4fda-b26b-3b511aa57fc7",
   "metadata": {},
   "outputs": [],
   "source": [
    "# Retrieve features\n",
    "data = housing[['price', 'area']].copy()\n",
    "\n",
    "# Mean normalization\n",
    "data['price'] = (data['price'] - data['price'].mean()) / (data['price'].max() - data['price'].min())\n",
    "data['area'] = (data['area'] - data['area'].mean()) / (data['area'].max() - data['area'].min())\n",
    "\n",
    "data"
   ]
  },
  {
   "cell_type": "code",
   "execution_count": null,
   "id": "959bff59-95ad-488c-b688-bef0a2b8bb15",
   "metadata": {},
   "outputs": [],
   "source": [
    "sns.scatterplot(data=data, x='area', y='price')"
   ]
  },
  {
   "cell_type": "markdown",
   "id": "f7c9106c-3326-435a-abe6-ee6ee755d8d6",
   "metadata": {},
   "source": [
    "### **2.2 Analysis**"
   ]
  },
  {
   "cell_type": "markdown",
   "id": "32f6fa92-a480-41b2-b2ee-e954e71102ec",
   "metadata": {},
   "source": [
    "#### **2.2.1 Model**"
   ]
  },
  {
   "cell_type": "markdown",
   "id": "627afaea-c6a4-44a4-b1c6-55a7a8653631",
   "metadata": {},
   "source": [
    "$$\n",
    "f_{w,b}(x^{(i)}) = wx^{(i)}+b \\tag{1}\n",
    "$$"
   ]
  },
  {
   "cell_type": "code",
   "execution_count": null,
   "id": "5753bb80-fe4c-4fde-b910-17924f84c5c9",
   "metadata": {},
   "outputs": [],
   "source": [
    "def f(x, w, b):\n",
    "    return w * x + b"
   ]
  },
  {
   "cell_type": "markdown",
   "id": "b7fc5971-16c0-4ff8-9df8-33a32429a186",
   "metadata": {},
   "source": [
    "#### **2.2.2 Cost function**"
   ]
  },
  {
   "cell_type": "markdown",
   "id": "bd7d219b-48d5-427a-9a93-0683703f81f5",
   "metadata": {},
   "source": [
    "$$\n",
    "J(w,b) = \\frac{1}{2m} \\sum_{i=0}^{m-1} (f_{w,b}(x^{(i)}) - y^{(i)})^2  \\tag{2}\n",
    "$$"
   ]
  },
  {
   "cell_type": "code",
   "execution_count": null,
   "id": "c0429c5a-11d8-4596-a947-65e806f3ea4d",
   "metadata": {},
   "outputs": [],
   "source": [
    "def compute_cost(X, y, w, b):\n",
    "    m = X.shape[0]\n",
    "    c = 0\n",
    "    for i in range(m):\n",
    "        c += (f(X[i], w, b) - X[i])**2\n",
    "        \n",
    "    return c / (2 * m)"
   ]
  },
  {
   "cell_type": "markdown",
   "id": "7b3357a1-d3ba-4788-9907-90c32c85f8f8",
   "metadata": {},
   "source": [
    "#### **2.2.3 Gradient**"
   ]
  },
  {
   "cell_type": "markdown",
   "id": "72918f9e-a9cc-4012-97f8-bb226280117d",
   "metadata": {},
   "source": [
    "$$\n",
    "\\begin{align}\n",
    "\\frac{\\partial J(w,b)}{\\partial w} &= \\frac{1}{m} \\sum\\limits_{i = 0}^{m-1} (f_{w,b}(x^{(i)}) -y^{(i)})x^{(i)} \\tag{3}\n",
    "\\\\\n",
    "\\frac{\\partial J(w,b)}{\\partial b} &= \\frac{1}{m} \\sum\\limits_{i = 0}^{m-1} (f_{w,b}(x^{(i)}) - y^{(i)}) \\tag{4}\n",
    "\\end{align}\n",
    "$$"
   ]
  },
  {
   "cell_type": "code",
   "execution_count": null,
   "id": "f0a62d8d-553b-455b-a0bd-819f23a16348",
   "metadata": {},
   "outputs": [],
   "source": [
    "def compute_gradient(X, y, w, b):\n",
    "    m = X.shape[0]\n",
    "\n",
    "    dw = np.sum((f(X, w, b) - y) * X) / m\n",
    "    db = np.sum((f(X, w, b) - y)) / m\n",
    "    \n",
    "    return dw, db"
   ]
  },
  {
   "cell_type": "markdown",
   "id": "0e21aec3-c976-4896-ac29-028c11c5b723",
   "metadata": {},
   "source": [
    "#### **2.2.4 Gradient descent**"
   ]
  },
  {
   "cell_type": "markdown",
   "id": "6fc56dd3-6980-4ab4-9d55-b0b1e63f4329",
   "metadata": {},
   "source": [
    "$$\n",
    "\\text{repeat until convergence} \\left\\{\n",
    "    \\begin{array}{ll}\n",
    "        w \\leftarrow w + \\alpha \\frac{1}{m} \\sum_{i=0}^{m-1} (f_{w,b}(x^{(i)}) - y^{(i)}) x^{(i)} \\\\\n",
    "        b \\leftarrow b + \\alpha \\frac{1}{m} \\sum_{i=0}^{m-1} (f_{w,b}(x^{(i)}) - y^{(i)})\n",
    "    \\end{array} \\tag{5}\n",
    "\\right.\n",
    "$$"
   ]
  },
  {
   "cell_type": "code",
   "execution_count": null,
   "id": "f9407a0d-90e7-4d11-a842-bd2fb3f7a6d6",
   "metadata": {},
   "outputs": [],
   "source": [
    "def gradient_descent(X, y, cost_function, gradient_function, alpha, epochs):\n",
    "    m = X.shape[0]\n",
    "    cost_history = np.zeros((epochs))\n",
    "    \n",
    "    # Initial parameter\n",
    "    w, b = 0, 0\n",
    "    \n",
    "    for i in range(epochs):\n",
    "        dw, db = compute_gradient(X, y, w, b)\n",
    "        \n",
    "        # Update parameter\n",
    "        w -= alpha * dw\n",
    "        b -= alpha * db\n",
    "        \n",
    "        # Save cost\n",
    "        cost_history[i] = cost_function(X, y, w, b)\n",
    "        \n",
    "    return w, b, cost_history"
   ]
  },
  {
   "cell_type": "markdown",
   "id": "3501ab55-9c1f-4ccd-a9d9-f1ee8cedb01d",
   "metadata": {},
   "source": [
    "### **2.3 Results**"
   ]
  },
  {
   "cell_type": "markdown",
   "id": "da1bb005-3386-4325-a85a-542feb308c33",
   "metadata": {},
   "source": [
    "#### **2.3.1 Regression line**"
   ]
  },
  {
   "cell_type": "code",
   "execution_count": null,
   "id": "e7ebcbc7-2f01-4f0d-8a7a-8d00dc699a61",
   "metadata": {},
   "outputs": [],
   "source": [
    "X = data['area'].values\n",
    "y = data['price'].values\n",
    "\n",
    "w, b, cost_history = gradient_descent(X, y, \n",
    "                                      cost_function=compute_cost, gradient_function=compute_gradient,\n",
    "                                      alpha=0.03, epochs=10000)\n",
    "\n",
    "print(f'w, b found by gradient descent:\\n {w}, {b}')"
   ]
  },
  {
   "cell_type": "code",
   "execution_count": null,
   "id": "53340cc6-92d2-486c-bb97-328680939d08",
   "metadata": {},
   "outputs": [],
   "source": [
    "sns.scatterplot(data=data, x='area', y='price')\n",
    "sns.lineplot(data=data, x='area', y=f(X, w, b),\n",
    "             linestyle='dashed', color='r',\n",
    "             label='trend line')"
   ]
  },
  {
   "cell_type": "markdown",
   "id": "2c3a1ba3-8394-44e7-b927-51809bddc80a",
   "metadata": {},
   "source": [
    "#### **2.3.2 Convergence**"
   ]
  },
  {
   "cell_type": "code",
   "execution_count": null,
   "id": "cc6e32a6-fe35-46db-9e5c-52ec93d9f484",
   "metadata": {},
   "outputs": [],
   "source": [
    "sns.lineplot(x=range(cost_history.shape[0]), y=cost_history) \\\n",
    "   .set(xlabel='iteration', ylabel='cost')"
   ]
  },
  {
   "cell_type": "markdown",
   "id": "beb8887b-d92f-4e34-87e9-baf5739fdc45",
   "metadata": {
    "tags": []
   },
   "source": [
    "## **3 Linear Regression with scikit-learn**"
   ]
  },
  {
   "cell_type": "markdown",
   "id": "744fcc83-142a-4953-a9cb-d07d6cc56571",
   "metadata": {},
   "source": [
    "### **3.1 Data preparation**"
   ]
  },
  {
   "cell_type": "code",
   "execution_count": null,
   "id": "c90b959c-e8be-40eb-b84b-9291896d282c",
   "metadata": {},
   "outputs": [],
   "source": [
    "data = housing[['price', 'area', 'bedrooms', 'stories', 'bathrooms']].copy()\n",
    "\n",
    "data"
   ]
  },
  {
   "cell_type": "code",
   "execution_count": null,
   "id": "0ff99315-4736-4587-bf48-d96836ac7132",
   "metadata": {},
   "outputs": [],
   "source": [
    "scaler = StandardScaler()\n",
    "fit_data = scaler.fit_transform(data)\n",
    "\n",
    "X, y = fit_data[:, 1:], fit_data[:, 0]\n",
    "\n",
    "scaler = StandardScaler()\n",
    "X_norm = scaler.fit_transform(X)\n",
    "\n",
    "X_norm"
   ]
  },
  {
   "cell_type": "markdown",
   "id": "27912b12-9189-4f50-ae14-450a8bee3af9",
   "metadata": {},
   "source": [
    "### **3.2 Analysis**"
   ]
  },
  {
   "cell_type": "code",
   "execution_count": null,
   "id": "a6ee2c7a-3174-4fed-9164-6e05d1835699",
   "metadata": {},
   "outputs": [],
   "source": [
    "sgdr = SGDRegressor(max_iter=1000)\n",
    "_ = sgdr.fit(X, y)\n",
    "\n",
    "b = sgdr.intercept_\n",
    "w = sgdr.coef_\n",
    "print(f'w, b found:\\n {b}, {w}')"
   ]
  },
  {
   "cell_type": "markdown",
   "id": "9df8ed45-94dc-4a67-9d5a-59a4ec4f8f03",
   "metadata": {},
   "source": [
    "### **3.3 Results**\n"
   ]
  },
  {
   "cell_type": "code",
   "execution_count": null,
   "id": "81cffd3e-7be6-4f6e-8772-5a5fb7729fe6",
   "metadata": {},
   "outputs": [],
   "source": [
    "y_pred_sgd = sgdr.predict(X)\n",
    "y_pred = np.dot(X, w) + b\n",
    "\n",
    "fig, axs = plt.subplots(1, 4,\n",
    "                        figsize=(12,3),\n",
    "                        sharey=True)\n",
    "\n",
    "for i in range(4):\n",
    "    sns.scatterplot(x=X[:,i], y=y,\n",
    "                    label='target',\n",
    "                    ax=axs[i])\n",
    "    \n",
    "    sns.scatterplot(x=X[:,i], y=y_pred,\n",
    "                    marker='s', alpha=0.3,\n",
    "                    label='predict',\n",
    "                    ax=axs[i])\n",
    "    \n",
    "    axs[i].set_xlabel(data.columns[i + 1])\n",
    "    \n",
    "\n",
    "axs[0].set_ylabel('Price');"
   ]
  }
 ],
 "metadata": {
  "kernelspec": {
   "display_name": "Python 3 (ipykernel)",
   "language": "python",
   "name": "python3"
  },
  "language_info": {
   "codemirror_mode": {
    "name": "ipython",
    "version": 3
   },
   "file_extension": ".py",
   "mimetype": "text/x-python",
   "name": "python",
   "nbconvert_exporter": "python",
   "pygments_lexer": "ipython3",
   "version": "3.10.5"
  }
 },
 "nbformat": 4,
 "nbformat_minor": 5
}
