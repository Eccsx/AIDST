{
 "cells": [
  {
   "cell_type": "markdown",
   "id": "2817f8ab-8e82-477a-881c-264ec482f897",
   "metadata": {},
   "source": [
    "# **Logistic Regression**"
   ]
  },
  {
   "cell_type": "markdown",
   "id": "94a364c1-e982-4781-bb45-1e8b2281c90c",
   "metadata": {},
   "source": [
    "## **1 Introduction**"
   ]
  },
  {
   "cell_type": "markdown",
   "id": "f6f45bf2-e4c1-4435-9baa-5b33eee184b2",
   "metadata": {},
   "source": [
    "This notebook is my learning material to keep track of the notions approached in the [Supervised Machine Learning: Regression and Classification](https://www.coursera.org/learn/machine-learning?specialization=machine-learning-introduction) course from the [Machine Learning Specialization](https://www.coursera.org/specializations/machine-learning-introduction) created by Andrew Ng.\n",
    "\n",
    "The first part explains how to perform Logistic Regression using gradient descent.<br>\n",
    "The second part shows how to solve this problem using [scikit-learn](https://scikit-learn.org/stable/index.html).\n",
    "\n",
    "Through this notebook, I use the [Breast Cancer Wisconsin (Diagnostic) Data Set](https://www.kaggle.com/datasets/uciml/breast-cancer-wisconsin-data) created by the UCI Machine Learning."
   ]
  },
  {
   "cell_type": "markdown",
   "id": "f1b91aa1-ffb8-431a-b02d-bea5d283208a",
   "metadata": {},
   "source": [
    "### **1.0.1 Imports**"
   ]
  },
  {
   "cell_type": "code",
   "execution_count": null,
   "id": "175ca603-6023-43e1-98ae-44fe2b09f466",
   "metadata": {},
   "outputs": [],
   "source": [
    "# Data manipulation\n",
    "import numpy as np\n",
    "import pandas as pd\n",
    "from sklearn.linear_model import LogisticRegression\n",
    "from sklearn.preprocessing import StandardScaler \n",
    "\n",
    "# Options for pandas\n",
    "pd.options.display.max_columns = 50\n",
    "pd.options.display.max_rows = 30\n",
    "\n",
    "# Visualization\n",
    "import matplotlib.pyplot as plt\n",
    "import seaborn as sns\n",
    "\n",
    "# Options for seaborn\n",
    "sns.set_style('darkgrid')\n",
    "%matplotlib inline\n",
    "\n",
    "from IPython import get_ipython\n",
    "ipython = get_ipython()\n",
    "\n",
    "# Autoreload extesnions\n",
    "if 'autoreload' not in ipython.extension_manager.loaded:\n",
    "    %load_ext autoreload"
   ]
  },
  {
   "cell_type": "markdown",
   "id": "b0bcfc79-06fe-4dbb-9410-c99da4f5c8a1",
   "metadata": {},
   "source": [
    "### **1.1 Data**"
   ]
  },
  {
   "cell_type": "markdown",
   "id": "0e93715a-d2c7-4713-8221-4ca32270f340",
   "metadata": {},
   "source": [
    "#### **1.1.0.1 Import**"
   ]
  },
  {
   "cell_type": "code",
   "execution_count": null,
   "id": "86a71c2d-4ef9-4822-b1de-beea9a93650e",
   "metadata": {},
   "outputs": [],
   "source": [
    "cancer = pd.read_csv('Breast Cancer WIsconsin (Diagnostic).csv')\n",
    "cancer"
   ]
  },
  {
   "cell_type": "markdown",
   "id": "de375684-6c79-40b5-a191-243b7f44c845",
   "metadata": {},
   "source": [
    "#### **1.1.1 Exploratory Data Analysis**"
   ]
  },
  {
   "cell_type": "code",
   "execution_count": null,
   "id": "fc718021-2928-4ec8-bda0-78bb56ca4c7d",
   "metadata": {},
   "outputs": [],
   "source": [
    "cancer.info()\n",
    "cancer.describe()"
   ]
  },
  {
   "cell_type": "markdown",
   "id": "cd45d43a-eff2-44a8-9d51-ce2bbe89cc38",
   "metadata": {},
   "source": [
    "## **2 Two-variable Logistic Regression**"
   ]
  },
  {
   "cell_type": "markdown",
   "id": "18a79fa1-8853-4da3-b19d-7fc7f6efa260",
   "metadata": {},
   "source": [
    "### **2.1 Data preparation**"
   ]
  },
  {
   "cell_type": "code",
   "execution_count": null,
   "id": "bc7deecd-8921-4d3e-9076-7c8bd19b256b",
   "metadata": {
    "tags": []
   },
   "outputs": [],
   "source": [
    "# Retrieve features\n",
    "data = cancer[['diagnosis', 'radius_mean', 'texture_mean']].copy()\n",
    "\n",
    "# Cast diagnosis into integers\n",
    "data['diagnosis'] = [1 if d == 'M' else 0 for d in data['diagnosis']]\n",
    "\n",
    "data"
   ]
  },
  {
   "cell_type": "code",
   "execution_count": null,
   "id": "fb858044-5c7c-4633-b15c-1f54713196f9",
   "metadata": {},
   "outputs": [],
   "source": [
    "sns.JointGrid(data=data, x='radius_mean', y='texture_mean',\n",
    "              hue='diagnosis') \\\n",
    "   .plot_joint(sns.scatterplot) \\\n",
    "   .plot_marginals(sns.kdeplot,\n",
    "                   fill=True)"
   ]
  },
  {
   "cell_type": "code",
   "execution_count": null,
   "id": "5a12f962-55fb-41b3-ae9c-7ed1f0a4516a",
   "metadata": {},
   "outputs": [],
   "source": [
    "# Z-Score normalization\n",
    "r = data['radius_mean']\n",
    "t = data['texture_mean']\n",
    "\n",
    "data['radius_mean'] = (r - r.mean()) / r.var()\n",
    "data['texture_mean'] = (t - t.mean()) / t.var()"
   ]
  },
  {
   "cell_type": "code",
   "execution_count": null,
   "id": "fafbddc1-afdc-4f10-95bd-6e74657958e3",
   "metadata": {},
   "outputs": [],
   "source": [
    "sns.scatterplot(data=data, x='radius_mean', y='texture_mean',\n",
    "                hue='diagnosis', style='diagnosis')"
   ]
  },
  {
   "cell_type": "code",
   "execution_count": null,
   "id": "d0c72735-2027-4b06-9d9c-1a7c9f6cd31a",
   "metadata": {},
   "outputs": [],
   "source": [
    "# Split the data\n",
    "training_data = data.sample(frac=0.8, random_state=25)\n",
    "testing_data = data.drop(training_data.index)\n",
    "\n",
    "X_train = training_data.drop('diagnosis', axis=1).to_numpy()\n",
    "y_train = training_data['diagnosis'].values\n",
    "\n",
    "X_test = testing_data.drop('diagnosis', axis=1).to_numpy()\n",
    "y_test = testing_data['diagnosis'].values"
   ]
  },
  {
   "cell_type": "markdown",
   "id": "feb81f0d-836c-4b86-87db-036f07899154",
   "metadata": {},
   "source": [
    "### **2.2 Analysis**"
   ]
  },
  {
   "cell_type": "markdown",
   "id": "af34d9d0-88ce-4639-9484-5c87f89c5d37",
   "metadata": {},
   "source": [
    "#### **2.2.1 Model**"
   ]
  },
  {
   "cell_type": "markdown",
   "id": "91cab826-7a49-4f88-af59-ba3b5856af56",
   "metadata": {},
   "source": [
    "$$\n",
    "g(z) = \\frac{1}{1 + e^{-z}} \\tag{1}\n",
    "$$"
   ]
  },
  {
   "cell_type": "code",
   "execution_count": null,
   "id": "b4a77845-4408-4eed-9cd8-9e07c8bb0715",
   "metadata": {},
   "outputs": [],
   "source": [
    "def g(z):\n",
    "    return 1 / (1 + np.exp(-z))"
   ]
  },
  {
   "cell_type": "markdown",
   "id": "d04a5a10-7672-41dd-8dfc-e14363fa0ebd",
   "metadata": {},
   "source": [
    "$$\n",
    "f_{\\vec{w}, b}(\\vec{x}) = g(\\vec{w} \\cdot \\vec{x} + b) \\tag{2}\n",
    "$$"
   ]
  },
  {
   "cell_type": "code",
   "execution_count": null,
   "id": "602fc755-6886-434a-a098-9af49ce305aa",
   "metadata": {},
   "outputs": [],
   "source": [
    "def f(X, w, b):\n",
    "    return g(np.dot(w, X.T) + b)"
   ]
  },
  {
   "cell_type": "markdown",
   "id": "782de31e-2668-4dc9-a0a1-3efdb839994e",
   "metadata": {},
   "source": [
    "#### **2.2.2 Cost function**"
   ]
  },
  {
   "cell_type": "markdown",
   "id": "4f37a0f7-cda8-4518-b797-68c89dc07cbf",
   "metadata": {},
   "source": [
    "$$\n",
    "loss(f_{\\vec{w},b}(\\vec{x}^{(i)}), y^{(i)}) = (-y^{(i)} \\log(f_{\\vec{w},b}(\\vec{x}^{(i)})) - ( 1 - y^{(i)}) \\log( 1 - f_{\\vec{w},b}(\\vec{x}^{(i)})) \\tag{3}\n",
    "$$"
   ]
  },
  {
   "cell_type": "code",
   "execution_count": null,
   "id": "986731df-bb37-44eb-bcc9-2bf0eb22f9a6",
   "metadata": {},
   "outputs": [],
   "source": [
    "def compute_loss(X, y, w, b):\n",
    "    return (-y * np.log(f(X, w, b))) - (1 - y) * np.log(1 - f(X, w, b))"
   ]
  },
  {
   "cell_type": "markdown",
   "id": "691e6467-9e3b-4e18-8358-061cefe78960",
   "metadata": {},
   "source": [
    "$$\n",
    "J(\\vec{w},b) = \\frac{1}{m} \\sum_{i=0}^{m-1} loss(f_{\\vec{w},b}(\\vec{x}^{(i)}), y^{(i)}) \\tag{4}\n",
    "$$"
   ]
  },
  {
   "cell_type": "code",
   "execution_count": null,
   "id": "e884d3ea-3856-42bf-afed-fbaf6815102d",
   "metadata": {},
   "outputs": [],
   "source": [
    "def compute_cost(X, y, w, b):\n",
    "    m = X.shape[0]\n",
    "    c = 0\n",
    "    for i in range(m):\n",
    "        c += compute_loss(X[i], y[i], w, b)\n",
    "        \n",
    "    return c / (2 * m)"
   ]
  },
  {
   "cell_type": "markdown",
   "id": "28e9084f-d03a-4d6a-adb8-415aafe786c7",
   "metadata": {},
   "source": [
    "## Gradient"
   ]
  },
  {
   "cell_type": "markdown",
   "id": "f5112b04-2254-4809-8b87-f7cc31f7e1c9",
   "metadata": {},
   "source": [
    "$$\n",
    "\\begin{align}\n",
    "\\frac{\\partial J(\\vec{w},b)}{\\partial w_j} &= \\frac{1}{m} \\sum\\limits_{i = 0}^{m-1} (f_{\\vec{w},b}(\\vec{x}^{(i)}) -y^{(i)})x_j^{(i)} \\tag{5}\n",
    "\\\\\n",
    "\\frac{\\partial J(\\vec{w},b)}{\\partial b} &= \\frac{1}{m} \\sum\\limits_{i = 0}^{m-1} (f_{\\vec{w},b}(\\vec{x}^{(i)}) - y^{(i)}) \\tag{6}\n",
    "\\end{align}\n",
    "$$"
   ]
  },
  {
   "cell_type": "code",
   "execution_count": null,
   "id": "e8a7a8e4-2ea1-4dd9-8c74-b66bcb1223e4",
   "metadata": {
    "tags": []
   },
   "outputs": [],
   "source": [
    "def compute_gradient(X, y, w, b):\n",
    "    m = X.shape[0]\n",
    "    \n",
    "    dw = np.sum((f(X, w, b) - y) * X.T, axis=1) / m\n",
    "    db = np.sum(f(X, w, b) - y) / m\n",
    "    \n",
    "    return dw, db"
   ]
  },
  {
   "cell_type": "markdown",
   "id": "932be5fe-ab72-41ae-acb3-5f2e65627a8a",
   "metadata": {},
   "source": [
    "## Gradient descent"
   ]
  },
  {
   "cell_type": "markdown",
   "id": "79016876-f9af-41d2-acdd-dda0749947c5",
   "metadata": {},
   "source": [
    "$$\n",
    "\\text{repeat until convergence} \\left\\{\n",
    "    \\begin{array}{ll}\n",
    "        w_j \\leftarrow w_j + \\alpha \\frac{1}{m} \\sum_{i=0}^{m-1} (f_{\\vec{w},b}(\\vec{x}^{(i)}) - y^{(i)}) x^{(i)} \\\\\n",
    "        b \\leftarrow b + \\alpha \\frac{1}{m} \\sum_{i=0}^{m-1} (f_{\\vec{w},b}(\\vec{x}^{(i)}) - y^{(i)})\n",
    "    \\end{array} \\tag{7}\n",
    "\\right.\n",
    "$$"
   ]
  },
  {
   "cell_type": "code",
   "execution_count": null,
   "id": "f9bcca45-848a-497f-b71d-e53a8fa2f071",
   "metadata": {},
   "outputs": [],
   "source": [
    "def gradient_descent(X, y, cost_function, gradient_function, alpha, epochs):\n",
    "    m = X.shape[0]\n",
    "    cost_history = np.zeros((epochs))\n",
    "    \n",
    "    # Initial parameter\n",
    "    w, b = 0, 0\n",
    "    \n",
    "    for i in range(epochs):\n",
    "        dw, db = compute_gradient(X, y, w, b)\n",
    "        \n",
    "        # Update parameter\n",
    "        w -= alpha * dw\n",
    "        b -= alpha * db\n",
    "        \n",
    "        # Save cost\n",
    "        cost_history[i] = compute_cost(X, y, w, b)\n",
    "        \n",
    "    return w, b, cost_history"
   ]
  },
  {
   "cell_type": "markdown",
   "id": "ccec6ca9-5dc2-44da-8e9d-725883d20f40",
   "metadata": {},
   "source": [
    "### **2.3 Results**"
   ]
  },
  {
   "cell_type": "markdown",
   "id": "fd94128d-5759-4ce6-8c93-e9202946efcc",
   "metadata": {},
   "source": [
    "#### **2.3.1 Decision boundary**"
   ]
  },
  {
   "cell_type": "code",
   "execution_count": null,
   "id": "c70d252a-76e8-47ab-8687-0e67be2e024c",
   "metadata": {},
   "outputs": [],
   "source": [
    "w, b, cost_history = gradient_descent(X_train, y_train, \n",
    "                                      cost_function=compute_cost, gradient_function=compute_gradient,\n",
    "                                      alpha=0.3, epochs=1500)\n",
    "\n",
    "print(f'w, b found by gradient descent:\\n {w}, {b}')"
   ]
  },
  {
   "cell_type": "code",
   "execution_count": null,
   "id": "1575718c-b27a-44b8-918e-e0589a842c26",
   "metadata": {},
   "outputs": [],
   "source": [
    "x0 = np.arange(data['radius_mean'].min(), data['radius_mean'].max())\n",
    "x1 = (-b - w[0] * x0) / w[1]\n",
    "\n",
    "sns.scatterplot(data=data, x='radius_mean', y='texture_mean',\n",
    "                hue='diagnosis', style='diagnosis')\n",
    "\n",
    "sns.lineplot(x=x0, y=x1,\n",
    "             label='decision boundary',\n",
    "             color='purple') \\\n",
    "   .fill_between(x0, x1, x1[1],\n",
    "                 color='purple', alpha=0.2)"
   ]
  },
  {
   "cell_type": "markdown",
   "id": "51ce46c8-6025-4b2c-8302-f59e4adc87bb",
   "metadata": {},
   "source": [
    "#### **2.3.2 Convergence**"
   ]
  },
  {
   "cell_type": "code",
   "execution_count": null,
   "id": "cdbbd8dc-8a82-4f36-90b5-54645c7b249b",
   "metadata": {},
   "outputs": [],
   "source": [
    "sns.lineplot(x=range(cost_history.shape[0]), y=cost_history)\n",
    "\n",
    "plt.xlabel('iteration')\n",
    "plt.ylabel('cost')"
   ]
  },
  {
   "cell_type": "markdown",
   "id": "ad150b83-0aed-4ea4-b80c-3145a4e729ed",
   "metadata": {},
   "source": [
    "#### **2.3.2 Predictions**"
   ]
  },
  {
   "cell_type": "code",
   "execution_count": null,
   "id": "1bbd02e7-e298-46ab-ae54-944037a9af40",
   "metadata": {},
   "outputs": [],
   "source": [
    "def predict(X, w, b, threshold=0.5):\n",
    "    p = f(X, w, b)\n",
    "    \n",
    "    p[p >= threshold] = 1\n",
    "    p[p < threshold] = 0\n",
    "    \n",
    "    return p"
   ]
  },
  {
   "cell_type": "code",
   "execution_count": null,
   "id": "f1e41095-ce6e-4d23-95e0-e00310436ce4",
   "metadata": {},
   "outputs": [],
   "source": [
    "predictions = predict(X_test, w, b)\n",
    "\n",
    "print(f'train accuracy: {(np.mean(predictions == y_test) * 100)}')"
   ]
  },
  {
   "cell_type": "code",
   "execution_count": null,
   "id": "8d2a0312-d5ea-48c5-a9ed-14038fc6b806",
   "metadata": {},
   "outputs": [],
   "source": [
    "guess = ['correct' if b else 'wrong' for b in predictions == y_test]\n",
    "\n",
    "sns.scatterplot(data=testing_data, x='radius_mean', y='texture_mean',\n",
    "                hue=guess, style=guess)"
   ]
  },
  {
   "cell_type": "markdown",
   "id": "4028454d-2f94-44f2-9653-0798df292a5e",
   "metadata": {},
   "source": [
    "## **3 Logistic Regression with scikit-learn**"
   ]
  },
  {
   "cell_type": "markdown",
   "id": "f165632a-b12d-4626-9454-38e98a232ea0",
   "metadata": {},
   "source": [
    "### **3.1 Data preparation**"
   ]
  },
  {
   "cell_type": "code",
   "execution_count": null,
   "id": "338131ee-64c6-4186-9210-3980c422b00d",
   "metadata": {},
   "outputs": [],
   "source": [
    "data = cancer.drop(['id', 'Unnamed: 32'], axis=1).copy()\n",
    "data['diagnosis'] = [1 if d == 'M' else 0 for d in data['diagnosis']]\n",
    "\n",
    "data"
   ]
  },
  {
   "cell_type": "code",
   "execution_count": null,
   "id": "6ec82105-b9b3-4f2d-8b66-b7f9c4fc41ff",
   "metadata": {},
   "outputs": [],
   "source": [
    "training_data = data.sample(frac=0.8, random_state=35)\n",
    "testing_data = data.drop(training_data.index)\n",
    "\n",
    "X_train = training_data.drop('diagnosis', axis=1).to_numpy()\n",
    "y_train = training_data['diagnosis'].values\n",
    "\n",
    "X_test = testing_data.drop('diagnosis', axis=1).to_numpy()\n",
    "y_test = testing_data['diagnosis'].values"
   ]
  },
  {
   "cell_type": "code",
   "execution_count": null,
   "id": "7a0ac30f-d2c1-4c4b-b6bb-bc7defee9fd5",
   "metadata": {},
   "outputs": [],
   "source": [
    "scaler = StandardScaler()\n",
    "fit_data = scaler.fit_transform(training_data)\n",
    "\n",
    "scaler = StandardScaler()\n",
    "X_train_norm = scaler.fit_transform(X_train)\n",
    "\n",
    "X_train_norm"
   ]
  },
  {
   "cell_type": "markdown",
   "id": "38562e4c-3972-4ec3-b750-ae9c892e8758",
   "metadata": {},
   "source": [
    "### **3.2 Analysis**"
   ]
  },
  {
   "cell_type": "code",
   "execution_count": null,
   "id": "6ad4c9a3-4ffe-4045-828b-32aeb65b5cda",
   "metadata": {},
   "outputs": [],
   "source": [
    "lr_model = LogisticRegression()\n",
    "lr_model.fit(X_train_norm, y_train)\n",
    "\n",
    "b = lr_model.intercept_\n",
    "w = lr_model.coef_\n",
    "print(f'w, b found:\\n {b}, {w}')"
   ]
  },
  {
   "cell_type": "markdown",
   "id": "b0bab9f0-aaf4-4425-a351-8ccab7e281f6",
   "metadata": {},
   "source": [
    "### **3.3 Results**"
   ]
  },
  {
   "cell_type": "code",
   "execution_count": null,
   "id": "691b6367-2642-4d29-9ac5-a59873038b34",
   "metadata": {},
   "outputs": [],
   "source": [
    "fit_data = scaler.fit_transform(testing_data)\n",
    "\n",
    "scaler = StandardScaler()\n",
    "X_test_norm = scaler.fit_transform(X_test)\n",
    "\n",
    "print(\"Accuracy on training set:\", lr_model.score(X_test_norm, y_test))"
   ]
  }
 ],
 "metadata": {
  "kernelspec": {
   "display_name": "Python 3 (ipykernel)",
   "language": "python",
   "name": "python3"
  },
  "language_info": {
   "codemirror_mode": {
    "name": "ipython",
    "version": 3
   },
   "file_extension": ".py",
   "mimetype": "text/x-python",
   "name": "python",
   "nbconvert_exporter": "python",
   "pygments_lexer": "ipython3",
   "version": "3.10.5"
  }
 },
 "nbformat": 4,
 "nbformat_minor": 5
}
